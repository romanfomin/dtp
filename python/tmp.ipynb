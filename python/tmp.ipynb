{
 "cells": [
  {
   "cell_type": "code",
   "execution_count": null,
   "metadata": {},
   "outputs": [],
   "source": [
    "import matplotlib.pyplot as plt\n",
    "import geopandas as gpd\n",
    "import tilemapbase\n",
    "tilemapbase.start_logging()\n",
    "tilemapbase.init(create=True)"
   ]
  },
  {
   "cell_type": "code",
   "execution_count": null,
   "metadata": {},
   "outputs": [],
   "source": [
    "BBox = (df.lon.min(), df.lon.max(),      \n",
    "         df.lat.min(), df.lat.max())\n",
    "\n",
    "points = gpd.GeoDataFrame(\n",
    "    df, geometry=gpd.points_from_xy(df.lon, df.lat))\n",
    "\n",
    "points.crs = {\"init\": \"EPSG:4326\"}\n",
    "\n",
    "shift = 0.03\n",
    "extent = tilemapbase.Extent.from_lonlat(df.lon.min() - shift, df.lon.max() + shift,\n",
    "                                        df.lat.min() - shift, df.lat.max() + shift)\n",
    "extent = extent.to_aspect(1.0)\n",
    "t = tilemapbase.tiles.build_OSM()\n",
    "\n",
    "fig, ax = plt.subplots(figsize=(8, 8), dpi=100)\n",
    "plotter = tilemapbase.Plotter(extent, t, width=600)\n",
    "plotter.plot(ax, t)\n",
    "\n",
    "proj_x = []\n",
    "proj_y = []\n",
    "for index, row in df.iterrows():\n",
    "    x, y = tilemapbase.project(row['lon'], row['lat'])\n",
    "    proj_x.append(x)\n",
    "    proj_y.append(y)\n",
    "\n",
    "ax.scatter(proj_x, proj_y)\n",
    "None"
   ]
  }
 ],
 "metadata": {
  "kernelspec": {
   "display_name": "Python 3",
   "language": "python",
   "name": "python3"
  },
  "language_info": {
   "codemirror_mode": {
    "name": "ipython",
    "version": 3
   },
   "file_extension": ".py",
   "mimetype": "text/x-python",
   "name": "python",
   "nbconvert_exporter": "python",
   "pygments_lexer": "ipython3",
   "version": "3.6.9"
  }
 },
 "nbformat": 4,
 "nbformat_minor": 4
}
