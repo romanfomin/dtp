{
 "cells": [
  {
   "cell_type": "code",
   "execution_count": 1,
   "metadata": {},
   "outputs": [],
   "source": [
    "import xmltodict\n",
    "import pandas as pd\n",
    "import numpy as np\n",
    "import plotly.graph_objects as go\n",
    "import requests\n",
    "import json\n",
    "import zipfile\n",
    "import io\n",
    "from math import sin, cos, sqrt, atan2, radians"
   ]
  },
  {
   "cell_type": "code",
   "execution_count": 2,
   "metadata": {},
   "outputs": [],
   "source": [
    "def get_xml_for_period(start_date, end_date):\n",
    "    # POST request\n",
    "    URL = 'http://stat.gibdd.ru/getCardsXML'\n",
    "    data = {\"data\":'{'\n",
    "            f'\"date_st\":\"{start_date}\",\"date_end\":\"{end_date}\",'\n",
    "            '\"ParReg\":\"877\",\"order\":{\"type\":1,\"fieldName\":\"dat\"},'\n",
    "            '\"reg\":[\"40\"],\"ind\":\"1\",\"exportType\":1'\n",
    "            '}'\n",
    "           }\n",
    "    response = requests.post(URL, json=data)\n",
    "    data = response.content\n",
    "    json_data = json.loads(data)\n",
    "    res_id = int(json_data['data'])\n",
    "\n",
    "    # GET request\n",
    "    URL = f'http://stat.gibdd.ru/getPDFbyId?data={res_id}'\n",
    "    response = requests.get(URL)\n",
    "    data = response.content\n",
    "\n",
    "    z = zipfile.ZipFile(io.BytesIO(data))\n",
    "    xml_string = z.read('Карточки ДТП.xml')\n",
    "    z.close()\n",
    "\n",
    "    return xml_string\n",
    "\n",
    "def save_xml_data_to_file(data, start_date, end_date):\n",
    "    filename = f'../datasets/{start_date}-{end_date}.xml'\n",
    "    with open(filename, 'wb') as fd:\n",
    "        fd.write(data)"
   ]
  },
  {
   "cell_type": "code",
   "execution_count": 22,
   "metadata": {},
   "outputs": [],
   "source": [
    "def parse_xml_file(filename):\n",
    "    with open(filename) as fd:\n",
    "        data = xmltodict.parse(fd.read())\n",
    "\n",
    "    dtp_dict = {\n",
    "        'type': [],\n",
    "        'dtp_num': [],\n",
    "        'lon': [],\n",
    "        'lat': [],\n",
    "    }\n",
    "\n",
    "    # tab = dtp\n",
    "    for dtp in data['dtpCardList']['tab']:\n",
    "    #     if 'Приморский' not in dtp['district']:\n",
    "    #         continue\n",
    "        info = dtp['infoDtp']\n",
    "        dtp_dict['type'].append(dtp['DTPV'])\n",
    "        dtp_dict['dtp_num'].append(dtp['EMTP_NUMBER'])\n",
    "        dtp_dict['lon'].append(float(info['COORD_L']))\n",
    "        dtp_dict['lat'].append(float(info['COORD_W']))\n",
    "\n",
    "    df = pd.DataFrame(dtp_dict)\n",
    "    df['meta_info'] = [f'dtp_num={i}' for i in df['dtp_num']]\n",
    "    return df"
   ]
  },
  {
   "cell_type": "code",
   "execution_count": 23,
   "metadata": {},
   "outputs": [],
   "source": [
    "def get_map(df):\n",
    "    mapbox_access_token = open(\"../mapbox/.mapbox_token\").read()\n",
    "\n",
    "    fig = go.Figure(go.Scattermapbox(\n",
    "            lon=df['lon'],\n",
    "            lat=df['lat'],\n",
    "            mode='markers',\n",
    "            marker=go.scattermapbox.Marker(\n",
    "                size=14\n",
    "            ),\n",
    "            text=df['meta_info'],\n",
    "        ))\n",
    "\n",
    "    fig.update_layout(\n",
    "        width=800,\n",
    "        height=800,\n",
    "        hovermode='closest',\n",
    "        mapbox=dict(\n",
    "            accesstoken=mapbox_access_token,\n",
    "            bearing=0,\n",
    "            style='open-street-map',\n",
    "            center=go.layout.mapbox.Center(\n",
    "                lon=30.259566,\n",
    "                lat=60.007568\n",
    "            ),\n",
    "            pitch=0,\n",
    "            zoom=12\n",
    "        )\n",
    "    )\n",
    "\n",
    "    fig.show()"
   ]
  },
  {
   "cell_type": "code",
   "execution_count": 24,
   "metadata": {},
   "outputs": [
    {
     "data": {
      "application/vnd.plotly.v1+json": {
       "config": {
        "plotlyServerURL": "https://plot.ly"
       },
       "data": [
        {
         "lat": [
          59.909212,
          59.849741,
          59.860679,
          60.022496,
          59.851815,
          59.937085,
          59.932742,
          59.995848,
          59.70842,
          59.918941,
          60.034127,
          59.824458,
          59.977548,
          59.853108,
          60.051839,
          59.938703,
          59.923797,
          60.002441,
          59.893313,
          59.959297,
          59.913353,
          60.039485,
          60.196028,
          60.186492,
          59.912692,
          59.933511,
          59.887575,
          59.871353,
          59.702507,
          59.928023,
          59.970891,
          59.851045,
          59.944673,
          59.890449,
          59.977687,
          59.929334,
          59.740255,
          59.944555,
          59.94132,
          59.810865,
          59.921802,
          59.925877,
          60.055657,
          59.740828,
          59.829634,
          59.731149,
          60.026023,
          59.990895,
          60.051533,
          59.94974,
          59.913644,
          59.7108,
          60.013221,
          60.051057,
          59.830756,
          59.835533,
          59.835403,
          59.888076,
          59.952357,
          60.041611,
          59.93887,
          60.202922,
          60.079582,
          59.851012,
          59.891456,
          59.904338,
          59.900948,
          59.922909,
          59.71424,
          59.930098,
          59.737752,
          59.853583,
          59.85181,
          59.94851,
          59.992414,
          60.019998,
          59.909217,
          60.042689,
          60.209602,
          59.908308,
          59.835393,
          59.777468,
          59.884571,
          59.752882,
          59.830734,
          59.85521,
          59.930409,
          59.872683,
          60.183078,
          59.829537,
          59.967921,
          59.941498,
          59.999233,
          59.983908,
          59.9365,
          59.819021,
          59.892435,
          59.938692,
          60.001223,
          60.168991,
          59.77661,
          60.07408,
          59.946919,
          60.052642,
          60.204559,
          59.938375,
          59.928936,
          59.949789,
          59.921221,
          60.057633,
          60.019703,
          59.919441,
          59.953146,
          60.059818,
          59.841543,
          59.868881,
          59.952904,
          59.740461,
          59.832632,
          59.850457,
          60.043825,
          59.818978,
          59.869145,
          59.978487,
          59.915101,
          60.140159,
          59.900265,
          59.9847,
          59.882822,
          60.036367,
          60.00612,
          59.882714,
          59.85716,
          59.953098,
          59.917806,
          59.7456,
          59.966574,
          59.894766,
          59.906812,
          59.926334,
          60.057408,
          59.9333,
          60.053188,
          59.875936,
          60.067432,
          60.031265,
          59.975873,
          59.95609,
          60.036871,
          59.829122,
          59.945512,
          59.941105,
          59.99956,
          60.034202,
          59.849223,
          59.857392,
          59.923635,
          60.015398,
          59.924528,
          59.879786,
          59.916419,
          60.043814,
          59.835145,
          60.006925,
          59.7558,
          59.954328,
          59.779991,
          59.960768,
          59.822029,
          59.968882,
          59.870487,
          60.034695,
          59.974933,
          59.938241,
          60.047286,
          59.846302,
          59.960296,
          59.941573,
          59.99243,
          60.043493,
          59.864459,
          59.821642,
          60.073855,
          59.802253,
          60.228263,
          60.0439,
          59.922038,
          59.977628,
          59.943271,
          59.855916,
          60.033988,
          59.833657,
          59.964689,
          59.7628,
          59.864454,
          60.050216,
          59.814274,
          60.044248,
          59.795896,
          59.97343,
          59.962884,
          59.985341,
          59.948381,
          59.97664,
          60.036088,
          59.970026,
          59.835818,
          60.03813,
          59.947505,
          59.983334,
          59.865655,
          59.812343,
          59.831953,
          59.936118,
          59.810746,
          59.940374,
          59.935849,
          60.009392,
          59.799954,
          59.962825,
          59.932845,
          59.823692,
          60.017687,
          59.830848,
          59.829796,
          59.871348,
          59.845515,
          60.078222,
          59.845672,
          59.948607,
          59.948558,
          59.928953,
          59.987681
         ],
         "lon": [
          30.299263,
          30.390662,
          30.391049,
          30.221586,
          30.256112,
          30.336277,
          30.360096,
          29.699843,
          30.327572,
          30.304284,
          30.426142,
          30.16556,
          30.393097,
          30.314605,
          30.384032,
          30.244879,
          30.336642,
          30.29789,
          30.319176,
          30.422409,
          30.277644,
          30.370964,
          29.534812,
          29.863404,
          30.438609,
          30.328563,
          30.363164,
          30.380148,
          30.375352,
          30.407099,
          30.386918,
          30.255811,
          30.237465,
          30.271829,
          30.301012,
          30.324122,
          30.482104,
          30.49103,
          30.312996,
          30.32881,
          30.478499,
          30.327866,
          30.223957,
          30.325785,
          30.192758,
          30.573267,
          30.003651,
          30.306484,
          30.384418,
          30.348219,
          30.478606,
          30.2747,
          30.323639,
          30.341599,
          30.344989,
          30.43936,
          30.127248,
          30.489678,
          30.410188,
          30.016473,
          30.355343,
          29.706688,
          30.265424,
          30.326257,
          30.464101,
          30.471622,
          30.280037,
          30.33411,
          30.406637,
          30.376199,
          30.393623,
          30.360825,
          30.302911,
          30.231103,
          30.148147,
          30.276099,
          30.300808,
          30.33484,
          29.715883,
          30.314133,
          30.146624,
          30.382014,
          30.467427,
          30.580058,
          30.14024,
          30.263751,
          30.37959,
          30.259116,
          29.809824,
          30.287719,
          30.482361,
          30.348401,
          30.234246,
          30.300905,
          30.282977,
          30.318768,
          30.255522,
          30.363443,
          30.298769,
          29.81962,
          30.652381,
          30.378656,
          30.378206,
          30.227101,
          29.8211,
          30.28023,
          30.41213,
          30.421379,
          30.31777,
          29.977162,
          30.318575,
          30.32557,
          30.323693,
          29.984372,
          30.255425,
          30.347768,
          30.447986,
          30.593029,
          30.44524,
          30.188456,
          30.328038,
          30.366533,
          29.867427,
          30.354205,
          30.460367,
          30.037994,
          30.488842,
          30.1997,
          30.424919,
          30.416379,
          30.273235,
          30.346245,
          30.178499,
          30.349925,
          30.496266,
          30.5028,
          30.281775,
          30.436957,
          30.482726,
          30.295637,
          30.127087,
          30.4347,
          30.332394,
          30.328585,
          30.27022,
          30.429651,
          30.40859,
          30.299252,
          30.36193,
          30.322287,
          30.286131,
          30.291023,
          30.365117,
          30.379847,
          30.256391,
          30.229708,
          30.385029,
          30.245157,
          30.39108,
          30.461311,
          30.41522,
          30.328016,
          30.400683,
          30.35339,
          30.3664,
          30.482844,
          30.496588,
          30.228989,
          30.41935,
          30.314262,
          30.408636,
          30.324723,
          30.317223,
          30.3453,
          30.330162,
          30.430734,
          30.303115,
          30.273288,
          29.762392,
          30.380276,
          30.165517,
          30.185913,
          30.351491,
          30.159788,
          29.678321,
          30.328499,
          30.305357,
          30.345815,
          30.279136,
          30.247153,
          30.394396,
          30.322695,
          30.330398,
          30.3969,
          30.339625,
          30.393012,
          30.315399,
          30.37782,
          30.517251,
          30.333681,
          30.487576,
          30.284725,
          30.327652,
          30.402131,
          30.45216,
          30.220256,
          30.449188,
          30.228605,
          30.303705,
          30.332597,
          30.355954,
          30.171568,
          30.520384,
          30.335988,
          30.368088,
          30.268171,
          30.321729,
          30.295658,
          30.164455,
          30.492586,
          30.347146,
          30.187651,
          30.010958,
          30.432966,
          30.538623,
          30.379665,
          30.37429,
          30.244653,
          30.205439,
          30.262291,
          30.231704,
          30.324894,
          30.31408
         ],
         "marker": {
          "size": 14
         },
         "mode": "markers",
         "text": [
          "dtp_num=400064035",
          "dtp_num=400064038",
          "dtp_num=400064142",
          "dtp_num=400064088",
          "dtp_num=400064185",
          "dtp_num=400064151",
          "dtp_num=400064925",
          "dtp_num=400064121",
          "dtp_num=400064085",
          "dtp_num=400063897",
          "dtp_num=400067840",
          "dtp_num=400063782",
          "dtp_num=400063772",
          "dtp_num=400063887",
          "dtp_num=400063875",
          "dtp_num=400063821",
          "dtp_num=400063856",
          "dtp_num=400063900",
          "dtp_num=400063902",
          "dtp_num=400063954",
          "dtp_num=400063791",
          "dtp_num=400063829",
          "dtp_num=400063790",
          "dtp_num=400063692",
          "dtp_num=400063377",
          "dtp_num=400063365",
          "dtp_num=400063381",
          "dtp_num=400063384",
          "dtp_num=400063387",
          "dtp_num=400063468",
          "dtp_num=400063565",
          "dtp_num=400063593",
          "dtp_num=400063378",
          "dtp_num=400063511",
          "dtp_num=400063530",
          "dtp_num=400064959",
          "dtp_num=400063483",
          "dtp_num=400063092",
          "dtp_num=400063234",
          "dtp_num=400063231",
          "dtp_num=400063258",
          "dtp_num=400063270",
          "dtp_num=400063136",
          "dtp_num=400063153",
          "dtp_num=400063205",
          "dtp_num=400063287",
          "dtp_num=400063301",
          "dtp_num=400063312",
          "dtp_num=400063374",
          "dtp_num=400063305",
          "dtp_num=400063344",
          "dtp_num=400063223",
          "dtp_num=400063141",
          "dtp_num=400063157",
          "dtp_num=400062809",
          "dtp_num=400076010",
          "dtp_num=400062836",
          "dtp_num=400062847",
          "dtp_num=400062856",
          "dtp_num=400063046",
          "dtp_num=400063047",
          "dtp_num=400062913",
          "dtp_num=400062849",
          "dtp_num=400062838",
          "dtp_num=400063044",
          "dtp_num=400062899",
          "dtp_num=400063067",
          "dtp_num=400062941",
          "dtp_num=400062995",
          "dtp_num=400062981",
          "dtp_num=400069330",
          "dtp_num=400062839",
          "dtp_num=400062822",
          "dtp_num=400062564",
          "dtp_num=400062706",
          "dtp_num=400062754",
          "dtp_num=400062776",
          "dtp_num=400065511",
          "dtp_num=400062610",
          "dtp_num=400062807",
          "dtp_num=400062528",
          "dtp_num=400062770",
          "dtp_num=400062617",
          "dtp_num=400062380",
          "dtp_num=400062331",
          "dtp_num=400062386",
          "dtp_num=400062450",
          "dtp_num=400062467",
          "dtp_num=400062529",
          "dtp_num=400062516",
          "dtp_num=400062504",
          "dtp_num=400062508",
          "dtp_num=400062485",
          "dtp_num=400062392",
          "dtp_num=400062348",
          "dtp_num=400063103",
          "dtp_num=400062121",
          "dtp_num=400062127",
          "dtp_num=400062131",
          "dtp_num=400062147",
          "dtp_num=400062135",
          "dtp_num=400062163",
          "dtp_num=400062188",
          "dtp_num=400062100",
          "dtp_num=400062345",
          "dtp_num=400062237",
          "dtp_num=400062265",
          "dtp_num=400062260",
          "dtp_num=400062287",
          "dtp_num=400062116",
          "dtp_num=400062101",
          "dtp_num=400062286",
          "dtp_num=400062277",
          "dtp_num=400062966",
          "dtp_num=400062217",
          "dtp_num=400067521",
          "dtp_num=400062124",
          "dtp_num=400061684",
          "dtp_num=400061987",
          "dtp_num=400061837",
          "dtp_num=400061864",
          "dtp_num=400061960",
          "dtp_num=400061925",
          "dtp_num=400061793",
          "dtp_num=400061910",
          "dtp_num=400061951",
          "dtp_num=400061800",
          "dtp_num=400061975",
          "dtp_num=400061984",
          "dtp_num=400061993",
          "dtp_num=400061765",
          "dtp_num=400061994",
          "dtp_num=400062032",
          "dtp_num=400061868",
          "dtp_num=400061738",
          "dtp_num=400061687",
          "dtp_num=400061953",
          "dtp_num=400061807",
          "dtp_num=400061927",
          "dtp_num=400061740",
          "dtp_num=400061445",
          "dtp_num=400069321",
          "dtp_num=400061553",
          "dtp_num=400061643",
          "dtp_num=400061661",
          "dtp_num=400061670",
          "dtp_num=400061485",
          "dtp_num=400061770",
          "dtp_num=400061495",
          "dtp_num=400061646",
          "dtp_num=400061493",
          "dtp_num=400061483",
          "dtp_num=400061498",
          "dtp_num=400061618",
          "dtp_num=400061510",
          "dtp_num=400061149",
          "dtp_num=400061093",
          "dtp_num=400061242",
          "dtp_num=400061276",
          "dtp_num=400061327",
          "dtp_num=400061353",
          "dtp_num=400061338",
          "dtp_num=400061355",
          "dtp_num=400061151",
          "dtp_num=400061308",
          "dtp_num=400061262",
          "dtp_num=400061142",
          "dtp_num=400061198",
          "dtp_num=400061244",
          "dtp_num=400061229",
          "dtp_num=400060799",
          "dtp_num=400073153",
          "dtp_num=400060802",
          "dtp_num=400060854",
          "dtp_num=400060919",
          "dtp_num=400060994",
          "dtp_num=400061011",
          "dtp_num=400061007",
          "dtp_num=400060788",
          "dtp_num=400061043",
          "dtp_num=400061079",
          "dtp_num=400061052",
          "dtp_num=400060772",
          "dtp_num=400060844",
          "dtp_num=400060838",
          "dtp_num=400060831",
          "dtp_num=400060824",
          "dtp_num=400060801",
          "dtp_num=400060409",
          "dtp_num=400060423",
          "dtp_num=400060448",
          "dtp_num=400060478",
          "dtp_num=400060481",
          "dtp_num=400060449",
          "dtp_num=400060614",
          "dtp_num=400060708",
          "dtp_num=400060599",
          "dtp_num=400060719",
          "dtp_num=400060535",
          "dtp_num=400060190",
          "dtp_num=400060418",
          "dtp_num=400060215",
          "dtp_num=400060211",
          "dtp_num=400060323",
          "dtp_num=400060346",
          "dtp_num=400060387",
          "dtp_num=400060394",
          "dtp_num=400060399",
          "dtp_num=400060181",
          "dtp_num=400060199",
          "dtp_num=400060356",
          "dtp_num=400060291",
          "dtp_num=400060390",
          "dtp_num=400060388",
          "dtp_num=400062930",
          "dtp_num=400060398",
          "dtp_num=400060186",
          "dtp_num=400060049",
          "dtp_num=400060086",
          "dtp_num=400060011",
          "dtp_num=400060004",
          "dtp_num=400060085",
          "dtp_num=400060023",
          "dtp_num=400059956",
          "dtp_num=400059974",
          "dtp_num=400059932",
          "dtp_num=400060082",
          "dtp_num=400060121",
          "dtp_num=400060188",
          "dtp_num=400060006",
          "dtp_num=400062240",
          "dtp_num=400070363",
          "dtp_num=400060016"
         ],
         "type": "scattermapbox"
        }
       ],
       "layout": {
        "height": 800,
        "hovermode": "closest",
        "mapbox": {
         "accesstoken": "pk.eyJ1Ijoicm9tYW4tZm9taW4iLCJhIjoiY2tnaHdkdXdtMjRyMDJxcWF6cXl4M3hkeCJ9.nBIlp6wUXfsUSach1AgjDw",
         "bearing": 0,
         "center": {
          "lat": 60.007568,
          "lon": 30.259566
         },
         "pitch": 0,
         "style": "open-street-map",
         "zoom": 12
        },
        "template": {
         "data": {
          "bar": [
           {
            "error_x": {
             "color": "#2a3f5f"
            },
            "error_y": {
             "color": "#2a3f5f"
            },
            "marker": {
             "line": {
              "color": "#E5ECF6",
              "width": 0.5
             }
            },
            "type": "bar"
           }
          ],
          "barpolar": [
           {
            "marker": {
             "line": {
              "color": "#E5ECF6",
              "width": 0.5
             }
            },
            "type": "barpolar"
           }
          ],
          "carpet": [
           {
            "aaxis": {
             "endlinecolor": "#2a3f5f",
             "gridcolor": "white",
             "linecolor": "white",
             "minorgridcolor": "white",
             "startlinecolor": "#2a3f5f"
            },
            "baxis": {
             "endlinecolor": "#2a3f5f",
             "gridcolor": "white",
             "linecolor": "white",
             "minorgridcolor": "white",
             "startlinecolor": "#2a3f5f"
            },
            "type": "carpet"
           }
          ],
          "choropleth": [
           {
            "colorbar": {
             "outlinewidth": 0,
             "ticks": ""
            },
            "type": "choropleth"
           }
          ],
          "contour": [
           {
            "colorbar": {
             "outlinewidth": 0,
             "ticks": ""
            },
            "colorscale": [
             [
              0,
              "#0d0887"
             ],
             [
              0.1111111111111111,
              "#46039f"
             ],
             [
              0.2222222222222222,
              "#7201a8"
             ],
             [
              0.3333333333333333,
              "#9c179e"
             ],
             [
              0.4444444444444444,
              "#bd3786"
             ],
             [
              0.5555555555555556,
              "#d8576b"
             ],
             [
              0.6666666666666666,
              "#ed7953"
             ],
             [
              0.7777777777777778,
              "#fb9f3a"
             ],
             [
              0.8888888888888888,
              "#fdca26"
             ],
             [
              1,
              "#f0f921"
             ]
            ],
            "type": "contour"
           }
          ],
          "contourcarpet": [
           {
            "colorbar": {
             "outlinewidth": 0,
             "ticks": ""
            },
            "type": "contourcarpet"
           }
          ],
          "heatmap": [
           {
            "colorbar": {
             "outlinewidth": 0,
             "ticks": ""
            },
            "colorscale": [
             [
              0,
              "#0d0887"
             ],
             [
              0.1111111111111111,
              "#46039f"
             ],
             [
              0.2222222222222222,
              "#7201a8"
             ],
             [
              0.3333333333333333,
              "#9c179e"
             ],
             [
              0.4444444444444444,
              "#bd3786"
             ],
             [
              0.5555555555555556,
              "#d8576b"
             ],
             [
              0.6666666666666666,
              "#ed7953"
             ],
             [
              0.7777777777777778,
              "#fb9f3a"
             ],
             [
              0.8888888888888888,
              "#fdca26"
             ],
             [
              1,
              "#f0f921"
             ]
            ],
            "type": "heatmap"
           }
          ],
          "heatmapgl": [
           {
            "colorbar": {
             "outlinewidth": 0,
             "ticks": ""
            },
            "colorscale": [
             [
              0,
              "#0d0887"
             ],
             [
              0.1111111111111111,
              "#46039f"
             ],
             [
              0.2222222222222222,
              "#7201a8"
             ],
             [
              0.3333333333333333,
              "#9c179e"
             ],
             [
              0.4444444444444444,
              "#bd3786"
             ],
             [
              0.5555555555555556,
              "#d8576b"
             ],
             [
              0.6666666666666666,
              "#ed7953"
             ],
             [
              0.7777777777777778,
              "#fb9f3a"
             ],
             [
              0.8888888888888888,
              "#fdca26"
             ],
             [
              1,
              "#f0f921"
             ]
            ],
            "type": "heatmapgl"
           }
          ],
          "histogram": [
           {
            "marker": {
             "colorbar": {
              "outlinewidth": 0,
              "ticks": ""
             }
            },
            "type": "histogram"
           }
          ],
          "histogram2d": [
           {
            "colorbar": {
             "outlinewidth": 0,
             "ticks": ""
            },
            "colorscale": [
             [
              0,
              "#0d0887"
             ],
             [
              0.1111111111111111,
              "#46039f"
             ],
             [
              0.2222222222222222,
              "#7201a8"
             ],
             [
              0.3333333333333333,
              "#9c179e"
             ],
             [
              0.4444444444444444,
              "#bd3786"
             ],
             [
              0.5555555555555556,
              "#d8576b"
             ],
             [
              0.6666666666666666,
              "#ed7953"
             ],
             [
              0.7777777777777778,
              "#fb9f3a"
             ],
             [
              0.8888888888888888,
              "#fdca26"
             ],
             [
              1,
              "#f0f921"
             ]
            ],
            "type": "histogram2d"
           }
          ],
          "histogram2dcontour": [
           {
            "colorbar": {
             "outlinewidth": 0,
             "ticks": ""
            },
            "colorscale": [
             [
              0,
              "#0d0887"
             ],
             [
              0.1111111111111111,
              "#46039f"
             ],
             [
              0.2222222222222222,
              "#7201a8"
             ],
             [
              0.3333333333333333,
              "#9c179e"
             ],
             [
              0.4444444444444444,
              "#bd3786"
             ],
             [
              0.5555555555555556,
              "#d8576b"
             ],
             [
              0.6666666666666666,
              "#ed7953"
             ],
             [
              0.7777777777777778,
              "#fb9f3a"
             ],
             [
              0.8888888888888888,
              "#fdca26"
             ],
             [
              1,
              "#f0f921"
             ]
            ],
            "type": "histogram2dcontour"
           }
          ],
          "mesh3d": [
           {
            "colorbar": {
             "outlinewidth": 0,
             "ticks": ""
            },
            "type": "mesh3d"
           }
          ],
          "parcoords": [
           {
            "line": {
             "colorbar": {
              "outlinewidth": 0,
              "ticks": ""
             }
            },
            "type": "parcoords"
           }
          ],
          "pie": [
           {
            "automargin": true,
            "type": "pie"
           }
          ],
          "scatter": [
           {
            "marker": {
             "colorbar": {
              "outlinewidth": 0,
              "ticks": ""
             }
            },
            "type": "scatter"
           }
          ],
          "scatter3d": [
           {
            "line": {
             "colorbar": {
              "outlinewidth": 0,
              "ticks": ""
             }
            },
            "marker": {
             "colorbar": {
              "outlinewidth": 0,
              "ticks": ""
             }
            },
            "type": "scatter3d"
           }
          ],
          "scattercarpet": [
           {
            "marker": {
             "colorbar": {
              "outlinewidth": 0,
              "ticks": ""
             }
            },
            "type": "scattercarpet"
           }
          ],
          "scattergeo": [
           {
            "marker": {
             "colorbar": {
              "outlinewidth": 0,
              "ticks": ""
             }
            },
            "type": "scattergeo"
           }
          ],
          "scattergl": [
           {
            "marker": {
             "colorbar": {
              "outlinewidth": 0,
              "ticks": ""
             }
            },
            "type": "scattergl"
           }
          ],
          "scattermapbox": [
           {
            "marker": {
             "colorbar": {
              "outlinewidth": 0,
              "ticks": ""
             }
            },
            "type": "scattermapbox"
           }
          ],
          "scatterpolar": [
           {
            "marker": {
             "colorbar": {
              "outlinewidth": 0,
              "ticks": ""
             }
            },
            "type": "scatterpolar"
           }
          ],
          "scatterpolargl": [
           {
            "marker": {
             "colorbar": {
              "outlinewidth": 0,
              "ticks": ""
             }
            },
            "type": "scatterpolargl"
           }
          ],
          "scatterternary": [
           {
            "marker": {
             "colorbar": {
              "outlinewidth": 0,
              "ticks": ""
             }
            },
            "type": "scatterternary"
           }
          ],
          "surface": [
           {
            "colorbar": {
             "outlinewidth": 0,
             "ticks": ""
            },
            "colorscale": [
             [
              0,
              "#0d0887"
             ],
             [
              0.1111111111111111,
              "#46039f"
             ],
             [
              0.2222222222222222,
              "#7201a8"
             ],
             [
              0.3333333333333333,
              "#9c179e"
             ],
             [
              0.4444444444444444,
              "#bd3786"
             ],
             [
              0.5555555555555556,
              "#d8576b"
             ],
             [
              0.6666666666666666,
              "#ed7953"
             ],
             [
              0.7777777777777778,
              "#fb9f3a"
             ],
             [
              0.8888888888888888,
              "#fdca26"
             ],
             [
              1,
              "#f0f921"
             ]
            ],
            "type": "surface"
           }
          ],
          "table": [
           {
            "cells": {
             "fill": {
              "color": "#EBF0F8"
             },
             "line": {
              "color": "white"
             }
            },
            "header": {
             "fill": {
              "color": "#C8D4E3"
             },
             "line": {
              "color": "white"
             }
            },
            "type": "table"
           }
          ]
         },
         "layout": {
          "annotationdefaults": {
           "arrowcolor": "#2a3f5f",
           "arrowhead": 0,
           "arrowwidth": 1
          },
          "coloraxis": {
           "colorbar": {
            "outlinewidth": 0,
            "ticks": ""
           }
          },
          "colorscale": {
           "diverging": [
            [
             0,
             "#8e0152"
            ],
            [
             0.1,
             "#c51b7d"
            ],
            [
             0.2,
             "#de77ae"
            ],
            [
             0.3,
             "#f1b6da"
            ],
            [
             0.4,
             "#fde0ef"
            ],
            [
             0.5,
             "#f7f7f7"
            ],
            [
             0.6,
             "#e6f5d0"
            ],
            [
             0.7,
             "#b8e186"
            ],
            [
             0.8,
             "#7fbc41"
            ],
            [
             0.9,
             "#4d9221"
            ],
            [
             1,
             "#276419"
            ]
           ],
           "sequential": [
            [
             0,
             "#0d0887"
            ],
            [
             0.1111111111111111,
             "#46039f"
            ],
            [
             0.2222222222222222,
             "#7201a8"
            ],
            [
             0.3333333333333333,
             "#9c179e"
            ],
            [
             0.4444444444444444,
             "#bd3786"
            ],
            [
             0.5555555555555556,
             "#d8576b"
            ],
            [
             0.6666666666666666,
             "#ed7953"
            ],
            [
             0.7777777777777778,
             "#fb9f3a"
            ],
            [
             0.8888888888888888,
             "#fdca26"
            ],
            [
             1,
             "#f0f921"
            ]
           ],
           "sequentialminus": [
            [
             0,
             "#0d0887"
            ],
            [
             0.1111111111111111,
             "#46039f"
            ],
            [
             0.2222222222222222,
             "#7201a8"
            ],
            [
             0.3333333333333333,
             "#9c179e"
            ],
            [
             0.4444444444444444,
             "#bd3786"
            ],
            [
             0.5555555555555556,
             "#d8576b"
            ],
            [
             0.6666666666666666,
             "#ed7953"
            ],
            [
             0.7777777777777778,
             "#fb9f3a"
            ],
            [
             0.8888888888888888,
             "#fdca26"
            ],
            [
             1,
             "#f0f921"
            ]
           ]
          },
          "colorway": [
           "#636efa",
           "#EF553B",
           "#00cc96",
           "#ab63fa",
           "#FFA15A",
           "#19d3f3",
           "#FF6692",
           "#B6E880",
           "#FF97FF",
           "#FECB52"
          ],
          "font": {
           "color": "#2a3f5f"
          },
          "geo": {
           "bgcolor": "white",
           "lakecolor": "white",
           "landcolor": "#E5ECF6",
           "showlakes": true,
           "showland": true,
           "subunitcolor": "white"
          },
          "hoverlabel": {
           "align": "left"
          },
          "hovermode": "closest",
          "mapbox": {
           "style": "light"
          },
          "paper_bgcolor": "white",
          "plot_bgcolor": "#E5ECF6",
          "polar": {
           "angularaxis": {
            "gridcolor": "white",
            "linecolor": "white",
            "ticks": ""
           },
           "bgcolor": "#E5ECF6",
           "radialaxis": {
            "gridcolor": "white",
            "linecolor": "white",
            "ticks": ""
           }
          },
          "scene": {
           "xaxis": {
            "backgroundcolor": "#E5ECF6",
            "gridcolor": "white",
            "gridwidth": 2,
            "linecolor": "white",
            "showbackground": true,
            "ticks": "",
            "zerolinecolor": "white"
           },
           "yaxis": {
            "backgroundcolor": "#E5ECF6",
            "gridcolor": "white",
            "gridwidth": 2,
            "linecolor": "white",
            "showbackground": true,
            "ticks": "",
            "zerolinecolor": "white"
           },
           "zaxis": {
            "backgroundcolor": "#E5ECF6",
            "gridcolor": "white",
            "gridwidth": 2,
            "linecolor": "white",
            "showbackground": true,
            "ticks": "",
            "zerolinecolor": "white"
           }
          },
          "shapedefaults": {
           "line": {
            "color": "#2a3f5f"
           }
          },
          "ternary": {
           "aaxis": {
            "gridcolor": "white",
            "linecolor": "white",
            "ticks": ""
           },
           "baxis": {
            "gridcolor": "white",
            "linecolor": "white",
            "ticks": ""
           },
           "bgcolor": "#E5ECF6",
           "caxis": {
            "gridcolor": "white",
            "linecolor": "white",
            "ticks": ""
           }
          },
          "title": {
           "x": 0.05
          },
          "xaxis": {
           "automargin": true,
           "gridcolor": "white",
           "linecolor": "white",
           "ticks": "",
           "title": {
            "standoff": 15
           },
           "zerolinecolor": "white",
           "zerolinewidth": 2
          },
          "yaxis": {
           "automargin": true,
           "gridcolor": "white",
           "linecolor": "white",
           "ticks": "",
           "title": {
            "standoff": 15
           },
           "zerolinecolor": "white",
           "zerolinewidth": 2
          }
         }
        },
        "width": 800
       }
      },
      "text/html": [
       "<div>                            <div id=\"41ad7f59-187b-46e8-adb9-2f3b7f5bccc3\" class=\"plotly-graph-div\" style=\"height:800px; width:800px;\"></div>            <script type=\"text/javascript\">                require([\"plotly\"], function(Plotly) {                    window.PLOTLYENV=window.PLOTLYENV || {};                                    if (document.getElementById(\"41ad7f59-187b-46e8-adb9-2f3b7f5bccc3\")) {                    Plotly.newPlot(                        \"41ad7f59-187b-46e8-adb9-2f3b7f5bccc3\",                        [{\"lat\": [59.909212, 59.849741, 59.860679, 60.022496, 59.851815, 59.937085, 59.932742, 59.995848, 59.70842, 59.918941, 60.034127, 59.824458, 59.977548, 59.853108, 60.051839, 59.938703, 59.923797, 60.002441, 59.893313, 59.959297, 59.913353, 60.039485, 60.196028, 60.186492, 59.912692, 59.933511, 59.887575, 59.871353, 59.702507, 59.928023, 59.970891, 59.851045, 59.944673, 59.890449, 59.977687, 59.929334, 59.740255, 59.944555, 59.94132, 59.810865, 59.921802, 59.925877, 60.055657, 59.740828, 59.829634, 59.731149, 60.026023, 59.990895, 60.051533, 59.94974, 59.913644, 59.7108, 60.013221, 60.051057, 59.830756, 59.835533, 59.835403, 59.888076, 59.952357, 60.041611, 59.93887, 60.202922, 60.079582, 59.851012, 59.891456, 59.904338, 59.900948, 59.922909, 59.71424, 59.930098, 59.737752, 59.853583, 59.85181, 59.94851, 59.992414, 60.019998, 59.909217, 60.042689, 60.209602, 59.908308, 59.835393, 59.777468, 59.884571, 59.752882, 59.830734, 59.85521, 59.930409, 59.872683, 60.183078, 59.829537, 59.967921, 59.941498, 59.999233, 59.983908, 59.9365, 59.819021, 59.892435, 59.938692, 60.001223, 60.168991, 59.77661, 60.07408, 59.946919, 60.052642, 60.204559, 59.938375, 59.928936, 59.949789, 59.921221, 60.057633, 60.019703, 59.919441, 59.953146, 60.059818, 59.841543, 59.868881, 59.952904, 59.740461, 59.832632, 59.850457, 60.043825, 59.818978, 59.869145, 59.978487, 59.915101, 60.140159, 59.900265, 59.9847, 59.882822, 60.036367, 60.00612, 59.882714, 59.85716, 59.953098, 59.917806, 59.7456, 59.966574, 59.894766, 59.906812, 59.926334, 60.057408, 59.9333, 60.053188, 59.875936, 60.067432, 60.031265, 59.975873, 59.95609, 60.036871, 59.829122, 59.945512, 59.941105, 59.99956, 60.034202, 59.849223, 59.857392, 59.923635, 60.015398, 59.924528, 59.879786, 59.916419, 60.043814, 59.835145, 60.006925, 59.7558, 59.954328, 59.779991, 59.960768, 59.822029, 59.968882, 59.870487, 60.034695, 59.974933, 59.938241, 60.047286, 59.846302, 59.960296, 59.941573, 59.99243, 60.043493, 59.864459, 59.821642, 60.073855, 59.802253, 60.228263, 60.0439, 59.922038, 59.977628, 59.943271, 59.855916, 60.033988, 59.833657, 59.964689, 59.7628, 59.864454, 60.050216, 59.814274, 60.044248, 59.795896, 59.97343, 59.962884, 59.985341, 59.948381, 59.97664, 60.036088, 59.970026, 59.835818, 60.03813, 59.947505, 59.983334, 59.865655, 59.812343, 59.831953, 59.936118, 59.810746, 59.940374, 59.935849, 60.009392, 59.799954, 59.962825, 59.932845, 59.823692, 60.017687, 59.830848, 59.829796, 59.871348, 59.845515, 60.078222, 59.845672, 59.948607, 59.948558, 59.928953, 59.987681], \"lon\": [30.299263, 30.390662, 30.391049, 30.221586, 30.256112, 30.336277, 30.360096, 29.699843, 30.327572, 30.304284, 30.426142, 30.16556, 30.393097, 30.314605, 30.384032, 30.244879, 30.336642, 30.29789, 30.319176, 30.422409, 30.277644, 30.370964, 29.534812, 29.863404, 30.438609, 30.328563, 30.363164, 30.380148, 30.375352, 30.407099, 30.386918, 30.255811, 30.237465, 30.271829, 30.301012, 30.324122, 30.482104, 30.49103, 30.312996, 30.32881, 30.478499, 30.327866, 30.223957, 30.325785, 30.192758, 30.573267, 30.003651, 30.306484, 30.384418, 30.348219, 30.478606, 30.2747, 30.323639, 30.341599, 30.344989, 30.43936, 30.127248, 30.489678, 30.410188, 30.016473, 30.355343, 29.706688, 30.265424, 30.326257, 30.464101, 30.471622, 30.280037, 30.33411, 30.406637, 30.376199, 30.393623, 30.360825, 30.302911, 30.231103, 30.148147, 30.276099, 30.300808, 30.33484, 29.715883, 30.314133, 30.146624, 30.382014, 30.467427, 30.580058, 30.14024, 30.263751, 30.37959, 30.259116, 29.809824, 30.287719, 30.482361, 30.348401, 30.234246, 30.300905, 30.282977, 30.318768, 30.255522, 30.363443, 30.298769, 29.81962, 30.652381, 30.378656, 30.378206, 30.227101, 29.8211, 30.28023, 30.41213, 30.421379, 30.31777, 29.977162, 30.318575, 30.32557, 30.323693, 29.984372, 30.255425, 30.347768, 30.447986, 30.593029, 30.44524, 30.188456, 30.328038, 30.366533, 29.867427, 30.354205, 30.460367, 30.037994, 30.488842, 30.1997, 30.424919, 30.416379, 30.273235, 30.346245, 30.178499, 30.349925, 30.496266, 30.5028, 30.281775, 30.436957, 30.482726, 30.295637, 30.127087, 30.4347, 30.332394, 30.328585, 30.27022, 30.429651, 30.40859, 30.299252, 30.36193, 30.322287, 30.286131, 30.291023, 30.365117, 30.379847, 30.256391, 30.229708, 30.385029, 30.245157, 30.39108, 30.461311, 30.41522, 30.328016, 30.400683, 30.35339, 30.3664, 30.482844, 30.496588, 30.228989, 30.41935, 30.314262, 30.408636, 30.324723, 30.317223, 30.3453, 30.330162, 30.430734, 30.303115, 30.273288, 29.762392, 30.380276, 30.165517, 30.185913, 30.351491, 30.159788, 29.678321, 30.328499, 30.305357, 30.345815, 30.279136, 30.247153, 30.394396, 30.322695, 30.330398, 30.3969, 30.339625, 30.393012, 30.315399, 30.37782, 30.517251, 30.333681, 30.487576, 30.284725, 30.327652, 30.402131, 30.45216, 30.220256, 30.449188, 30.228605, 30.303705, 30.332597, 30.355954, 30.171568, 30.520384, 30.335988, 30.368088, 30.268171, 30.321729, 30.295658, 30.164455, 30.492586, 30.347146, 30.187651, 30.010958, 30.432966, 30.538623, 30.379665, 30.37429, 30.244653, 30.205439, 30.262291, 30.231704, 30.324894, 30.31408], \"marker\": {\"size\": 14}, \"mode\": \"markers\", \"text\": [\"dtp_num=400064035\", \"dtp_num=400064038\", \"dtp_num=400064142\", \"dtp_num=400064088\", \"dtp_num=400064185\", \"dtp_num=400064151\", \"dtp_num=400064925\", \"dtp_num=400064121\", \"dtp_num=400064085\", \"dtp_num=400063897\", \"dtp_num=400067840\", \"dtp_num=400063782\", \"dtp_num=400063772\", \"dtp_num=400063887\", \"dtp_num=400063875\", \"dtp_num=400063821\", \"dtp_num=400063856\", \"dtp_num=400063900\", \"dtp_num=400063902\", \"dtp_num=400063954\", \"dtp_num=400063791\", \"dtp_num=400063829\", \"dtp_num=400063790\", \"dtp_num=400063692\", \"dtp_num=400063377\", \"dtp_num=400063365\", \"dtp_num=400063381\", \"dtp_num=400063384\", \"dtp_num=400063387\", \"dtp_num=400063468\", \"dtp_num=400063565\", \"dtp_num=400063593\", \"dtp_num=400063378\", \"dtp_num=400063511\", \"dtp_num=400063530\", \"dtp_num=400064959\", \"dtp_num=400063483\", \"dtp_num=400063092\", \"dtp_num=400063234\", \"dtp_num=400063231\", \"dtp_num=400063258\", \"dtp_num=400063270\", \"dtp_num=400063136\", \"dtp_num=400063153\", \"dtp_num=400063205\", \"dtp_num=400063287\", \"dtp_num=400063301\", \"dtp_num=400063312\", \"dtp_num=400063374\", \"dtp_num=400063305\", \"dtp_num=400063344\", \"dtp_num=400063223\", \"dtp_num=400063141\", \"dtp_num=400063157\", \"dtp_num=400062809\", \"dtp_num=400076010\", \"dtp_num=400062836\", \"dtp_num=400062847\", \"dtp_num=400062856\", \"dtp_num=400063046\", \"dtp_num=400063047\", \"dtp_num=400062913\", \"dtp_num=400062849\", \"dtp_num=400062838\", \"dtp_num=400063044\", \"dtp_num=400062899\", \"dtp_num=400063067\", \"dtp_num=400062941\", \"dtp_num=400062995\", \"dtp_num=400062981\", \"dtp_num=400069330\", \"dtp_num=400062839\", \"dtp_num=400062822\", \"dtp_num=400062564\", \"dtp_num=400062706\", \"dtp_num=400062754\", \"dtp_num=400062776\", \"dtp_num=400065511\", \"dtp_num=400062610\", \"dtp_num=400062807\", \"dtp_num=400062528\", \"dtp_num=400062770\", \"dtp_num=400062617\", \"dtp_num=400062380\", \"dtp_num=400062331\", \"dtp_num=400062386\", \"dtp_num=400062450\", \"dtp_num=400062467\", \"dtp_num=400062529\", \"dtp_num=400062516\", \"dtp_num=400062504\", \"dtp_num=400062508\", \"dtp_num=400062485\", \"dtp_num=400062392\", \"dtp_num=400062348\", \"dtp_num=400063103\", \"dtp_num=400062121\", \"dtp_num=400062127\", \"dtp_num=400062131\", \"dtp_num=400062147\", \"dtp_num=400062135\", \"dtp_num=400062163\", \"dtp_num=400062188\", \"dtp_num=400062100\", \"dtp_num=400062345\", \"dtp_num=400062237\", \"dtp_num=400062265\", \"dtp_num=400062260\", \"dtp_num=400062287\", \"dtp_num=400062116\", \"dtp_num=400062101\", \"dtp_num=400062286\", \"dtp_num=400062277\", \"dtp_num=400062966\", \"dtp_num=400062217\", \"dtp_num=400067521\", \"dtp_num=400062124\", \"dtp_num=400061684\", \"dtp_num=400061987\", \"dtp_num=400061837\", \"dtp_num=400061864\", \"dtp_num=400061960\", \"dtp_num=400061925\", \"dtp_num=400061793\", \"dtp_num=400061910\", \"dtp_num=400061951\", \"dtp_num=400061800\", \"dtp_num=400061975\", \"dtp_num=400061984\", \"dtp_num=400061993\", \"dtp_num=400061765\", \"dtp_num=400061994\", \"dtp_num=400062032\", \"dtp_num=400061868\", \"dtp_num=400061738\", \"dtp_num=400061687\", \"dtp_num=400061953\", \"dtp_num=400061807\", \"dtp_num=400061927\", \"dtp_num=400061740\", \"dtp_num=400061445\", \"dtp_num=400069321\", \"dtp_num=400061553\", \"dtp_num=400061643\", \"dtp_num=400061661\", \"dtp_num=400061670\", \"dtp_num=400061485\", \"dtp_num=400061770\", \"dtp_num=400061495\", \"dtp_num=400061646\", \"dtp_num=400061493\", \"dtp_num=400061483\", \"dtp_num=400061498\", \"dtp_num=400061618\", \"dtp_num=400061510\", \"dtp_num=400061149\", \"dtp_num=400061093\", \"dtp_num=400061242\", \"dtp_num=400061276\", \"dtp_num=400061327\", \"dtp_num=400061353\", \"dtp_num=400061338\", \"dtp_num=400061355\", \"dtp_num=400061151\", \"dtp_num=400061308\", \"dtp_num=400061262\", \"dtp_num=400061142\", \"dtp_num=400061198\", \"dtp_num=400061244\", \"dtp_num=400061229\", \"dtp_num=400060799\", \"dtp_num=400073153\", \"dtp_num=400060802\", \"dtp_num=400060854\", \"dtp_num=400060919\", \"dtp_num=400060994\", \"dtp_num=400061011\", \"dtp_num=400061007\", \"dtp_num=400060788\", \"dtp_num=400061043\", \"dtp_num=400061079\", \"dtp_num=400061052\", \"dtp_num=400060772\", \"dtp_num=400060844\", \"dtp_num=400060838\", \"dtp_num=400060831\", \"dtp_num=400060824\", \"dtp_num=400060801\", \"dtp_num=400060409\", \"dtp_num=400060423\", \"dtp_num=400060448\", \"dtp_num=400060478\", \"dtp_num=400060481\", \"dtp_num=400060449\", \"dtp_num=400060614\", \"dtp_num=400060708\", \"dtp_num=400060599\", \"dtp_num=400060719\", \"dtp_num=400060535\", \"dtp_num=400060190\", \"dtp_num=400060418\", \"dtp_num=400060215\", \"dtp_num=400060211\", \"dtp_num=400060323\", \"dtp_num=400060346\", \"dtp_num=400060387\", \"dtp_num=400060394\", \"dtp_num=400060399\", \"dtp_num=400060181\", \"dtp_num=400060199\", \"dtp_num=400060356\", \"dtp_num=400060291\", \"dtp_num=400060390\", \"dtp_num=400060388\", \"dtp_num=400062930\", \"dtp_num=400060398\", \"dtp_num=400060186\", \"dtp_num=400060049\", \"dtp_num=400060086\", \"dtp_num=400060011\", \"dtp_num=400060004\", \"dtp_num=400060085\", \"dtp_num=400060023\", \"dtp_num=400059956\", \"dtp_num=400059974\", \"dtp_num=400059932\", \"dtp_num=400060082\", \"dtp_num=400060121\", \"dtp_num=400060188\", \"dtp_num=400060006\", \"dtp_num=400062240\", \"dtp_num=400070363\", \"dtp_num=400060016\"], \"type\": \"scattermapbox\"}],                        {\"height\": 800, \"hovermode\": \"closest\", \"mapbox\": {\"accesstoken\": \"pk.eyJ1Ijoicm9tYW4tZm9taW4iLCJhIjoiY2tnaHdkdXdtMjRyMDJxcWF6cXl4M3hkeCJ9.nBIlp6wUXfsUSach1AgjDw\", \"bearing\": 0, \"center\": {\"lat\": 60.007568, \"lon\": 30.259566}, \"pitch\": 0, \"style\": \"open-street-map\", \"zoom\": 12}, \"template\": {\"data\": {\"bar\": [{\"error_x\": {\"color\": \"#2a3f5f\"}, \"error_y\": {\"color\": \"#2a3f5f\"}, \"marker\": {\"line\": {\"color\": \"#E5ECF6\", \"width\": 0.5}}, \"type\": \"bar\"}], \"barpolar\": [{\"marker\": {\"line\": {\"color\": \"#E5ECF6\", \"width\": 0.5}}, \"type\": \"barpolar\"}], \"carpet\": [{\"aaxis\": {\"endlinecolor\": \"#2a3f5f\", \"gridcolor\": \"white\", \"linecolor\": \"white\", \"minorgridcolor\": \"white\", \"startlinecolor\": \"#2a3f5f\"}, \"baxis\": {\"endlinecolor\": \"#2a3f5f\", \"gridcolor\": \"white\", \"linecolor\": \"white\", \"minorgridcolor\": \"white\", \"startlinecolor\": \"#2a3f5f\"}, \"type\": \"carpet\"}], \"choropleth\": [{\"colorbar\": {\"outlinewidth\": 0, \"ticks\": \"\"}, \"type\": \"choropleth\"}], \"contour\": [{\"colorbar\": {\"outlinewidth\": 0, \"ticks\": \"\"}, \"colorscale\": [[0.0, \"#0d0887\"], [0.1111111111111111, \"#46039f\"], [0.2222222222222222, \"#7201a8\"], [0.3333333333333333, \"#9c179e\"], [0.4444444444444444, \"#bd3786\"], [0.5555555555555556, \"#d8576b\"], [0.6666666666666666, \"#ed7953\"], [0.7777777777777778, \"#fb9f3a\"], [0.8888888888888888, \"#fdca26\"], [1.0, \"#f0f921\"]], \"type\": \"contour\"}], \"contourcarpet\": [{\"colorbar\": {\"outlinewidth\": 0, \"ticks\": \"\"}, \"type\": \"contourcarpet\"}], \"heatmap\": [{\"colorbar\": {\"outlinewidth\": 0, \"ticks\": \"\"}, \"colorscale\": [[0.0, \"#0d0887\"], [0.1111111111111111, \"#46039f\"], [0.2222222222222222, \"#7201a8\"], [0.3333333333333333, \"#9c179e\"], [0.4444444444444444, \"#bd3786\"], [0.5555555555555556, \"#d8576b\"], [0.6666666666666666, \"#ed7953\"], [0.7777777777777778, \"#fb9f3a\"], [0.8888888888888888, \"#fdca26\"], [1.0, \"#f0f921\"]], \"type\": \"heatmap\"}], \"heatmapgl\": [{\"colorbar\": {\"outlinewidth\": 0, \"ticks\": \"\"}, \"colorscale\": [[0.0, \"#0d0887\"], [0.1111111111111111, \"#46039f\"], [0.2222222222222222, \"#7201a8\"], [0.3333333333333333, \"#9c179e\"], [0.4444444444444444, \"#bd3786\"], [0.5555555555555556, \"#d8576b\"], [0.6666666666666666, \"#ed7953\"], [0.7777777777777778, \"#fb9f3a\"], [0.8888888888888888, \"#fdca26\"], [1.0, \"#f0f921\"]], \"type\": \"heatmapgl\"}], \"histogram\": [{\"marker\": {\"colorbar\": {\"outlinewidth\": 0, \"ticks\": \"\"}}, \"type\": \"histogram\"}], \"histogram2d\": [{\"colorbar\": {\"outlinewidth\": 0, \"ticks\": \"\"}, \"colorscale\": [[0.0, \"#0d0887\"], [0.1111111111111111, \"#46039f\"], [0.2222222222222222, \"#7201a8\"], [0.3333333333333333, \"#9c179e\"], [0.4444444444444444, \"#bd3786\"], [0.5555555555555556, \"#d8576b\"], [0.6666666666666666, \"#ed7953\"], [0.7777777777777778, \"#fb9f3a\"], [0.8888888888888888, \"#fdca26\"], [1.0, \"#f0f921\"]], \"type\": \"histogram2d\"}], \"histogram2dcontour\": [{\"colorbar\": {\"outlinewidth\": 0, \"ticks\": \"\"}, \"colorscale\": [[0.0, \"#0d0887\"], [0.1111111111111111, \"#46039f\"], [0.2222222222222222, \"#7201a8\"], [0.3333333333333333, \"#9c179e\"], [0.4444444444444444, \"#bd3786\"], [0.5555555555555556, \"#d8576b\"], [0.6666666666666666, \"#ed7953\"], [0.7777777777777778, \"#fb9f3a\"], [0.8888888888888888, \"#fdca26\"], [1.0, \"#f0f921\"]], \"type\": \"histogram2dcontour\"}], \"mesh3d\": [{\"colorbar\": {\"outlinewidth\": 0, \"ticks\": \"\"}, \"type\": \"mesh3d\"}], \"parcoords\": [{\"line\": {\"colorbar\": {\"outlinewidth\": 0, \"ticks\": \"\"}}, \"type\": \"parcoords\"}], \"pie\": [{\"automargin\": true, \"type\": \"pie\"}], \"scatter\": [{\"marker\": {\"colorbar\": {\"outlinewidth\": 0, \"ticks\": \"\"}}, \"type\": \"scatter\"}], \"scatter3d\": [{\"line\": {\"colorbar\": {\"outlinewidth\": 0, \"ticks\": \"\"}}, \"marker\": {\"colorbar\": {\"outlinewidth\": 0, \"ticks\": \"\"}}, \"type\": \"scatter3d\"}], \"scattercarpet\": [{\"marker\": {\"colorbar\": {\"outlinewidth\": 0, \"ticks\": \"\"}}, \"type\": \"scattercarpet\"}], \"scattergeo\": [{\"marker\": {\"colorbar\": {\"outlinewidth\": 0, \"ticks\": \"\"}}, \"type\": \"scattergeo\"}], \"scattergl\": [{\"marker\": {\"colorbar\": {\"outlinewidth\": 0, \"ticks\": \"\"}}, \"type\": \"scattergl\"}], \"scattermapbox\": [{\"marker\": {\"colorbar\": {\"outlinewidth\": 0, \"ticks\": \"\"}}, \"type\": \"scattermapbox\"}], \"scatterpolar\": [{\"marker\": {\"colorbar\": {\"outlinewidth\": 0, \"ticks\": \"\"}}, \"type\": \"scatterpolar\"}], \"scatterpolargl\": [{\"marker\": {\"colorbar\": {\"outlinewidth\": 0, \"ticks\": \"\"}}, \"type\": \"scatterpolargl\"}], \"scatterternary\": [{\"marker\": {\"colorbar\": {\"outlinewidth\": 0, \"ticks\": \"\"}}, \"type\": \"scatterternary\"}], \"surface\": [{\"colorbar\": {\"outlinewidth\": 0, \"ticks\": \"\"}, \"colorscale\": [[0.0, \"#0d0887\"], [0.1111111111111111, \"#46039f\"], [0.2222222222222222, \"#7201a8\"], [0.3333333333333333, \"#9c179e\"], [0.4444444444444444, \"#bd3786\"], [0.5555555555555556, \"#d8576b\"], [0.6666666666666666, \"#ed7953\"], [0.7777777777777778, \"#fb9f3a\"], [0.8888888888888888, \"#fdca26\"], [1.0, \"#f0f921\"]], \"type\": \"surface\"}], \"table\": [{\"cells\": {\"fill\": {\"color\": \"#EBF0F8\"}, \"line\": {\"color\": \"white\"}}, \"header\": {\"fill\": {\"color\": \"#C8D4E3\"}, \"line\": {\"color\": \"white\"}}, \"type\": \"table\"}]}, \"layout\": {\"annotationdefaults\": {\"arrowcolor\": \"#2a3f5f\", \"arrowhead\": 0, \"arrowwidth\": 1}, \"coloraxis\": {\"colorbar\": {\"outlinewidth\": 0, \"ticks\": \"\"}}, \"colorscale\": {\"diverging\": [[0, \"#8e0152\"], [0.1, \"#c51b7d\"], [0.2, \"#de77ae\"], [0.3, \"#f1b6da\"], [0.4, \"#fde0ef\"], [0.5, \"#f7f7f7\"], [0.6, \"#e6f5d0\"], [0.7, \"#b8e186\"], [0.8, \"#7fbc41\"], [0.9, \"#4d9221\"], [1, \"#276419\"]], \"sequential\": [[0.0, \"#0d0887\"], [0.1111111111111111, \"#46039f\"], [0.2222222222222222, \"#7201a8\"], [0.3333333333333333, \"#9c179e\"], [0.4444444444444444, \"#bd3786\"], [0.5555555555555556, \"#d8576b\"], [0.6666666666666666, \"#ed7953\"], [0.7777777777777778, \"#fb9f3a\"], [0.8888888888888888, \"#fdca26\"], [1.0, \"#f0f921\"]], \"sequentialminus\": [[0.0, \"#0d0887\"], [0.1111111111111111, \"#46039f\"], [0.2222222222222222, \"#7201a8\"], [0.3333333333333333, \"#9c179e\"], [0.4444444444444444, \"#bd3786\"], [0.5555555555555556, \"#d8576b\"], [0.6666666666666666, \"#ed7953\"], [0.7777777777777778, \"#fb9f3a\"], [0.8888888888888888, \"#fdca26\"], [1.0, \"#f0f921\"]]}, \"colorway\": [\"#636efa\", \"#EF553B\", \"#00cc96\", \"#ab63fa\", \"#FFA15A\", \"#19d3f3\", \"#FF6692\", \"#B6E880\", \"#FF97FF\", \"#FECB52\"], \"font\": {\"color\": \"#2a3f5f\"}, \"geo\": {\"bgcolor\": \"white\", \"lakecolor\": \"white\", \"landcolor\": \"#E5ECF6\", \"showlakes\": true, \"showland\": true, \"subunitcolor\": \"white\"}, \"hoverlabel\": {\"align\": \"left\"}, \"hovermode\": \"closest\", \"mapbox\": {\"style\": \"light\"}, \"paper_bgcolor\": \"white\", \"plot_bgcolor\": \"#E5ECF6\", \"polar\": {\"angularaxis\": {\"gridcolor\": \"white\", \"linecolor\": \"white\", \"ticks\": \"\"}, \"bgcolor\": \"#E5ECF6\", \"radialaxis\": {\"gridcolor\": \"white\", \"linecolor\": \"white\", \"ticks\": \"\"}}, \"scene\": {\"xaxis\": {\"backgroundcolor\": \"#E5ECF6\", \"gridcolor\": \"white\", \"gridwidth\": 2, \"linecolor\": \"white\", \"showbackground\": true, \"ticks\": \"\", \"zerolinecolor\": \"white\"}, \"yaxis\": {\"backgroundcolor\": \"#E5ECF6\", \"gridcolor\": \"white\", \"gridwidth\": 2, \"linecolor\": \"white\", \"showbackground\": true, \"ticks\": \"\", \"zerolinecolor\": \"white\"}, \"zaxis\": {\"backgroundcolor\": \"#E5ECF6\", \"gridcolor\": \"white\", \"gridwidth\": 2, \"linecolor\": \"white\", \"showbackground\": true, \"ticks\": \"\", \"zerolinecolor\": \"white\"}}, \"shapedefaults\": {\"line\": {\"color\": \"#2a3f5f\"}}, \"ternary\": {\"aaxis\": {\"gridcolor\": \"white\", \"linecolor\": \"white\", \"ticks\": \"\"}, \"baxis\": {\"gridcolor\": \"white\", \"linecolor\": \"white\", \"ticks\": \"\"}, \"bgcolor\": \"#E5ECF6\", \"caxis\": {\"gridcolor\": \"white\", \"linecolor\": \"white\", \"ticks\": \"\"}}, \"title\": {\"x\": 0.05}, \"xaxis\": {\"automargin\": true, \"gridcolor\": \"white\", \"linecolor\": \"white\", \"ticks\": \"\", \"title\": {\"standoff\": 15}, \"zerolinecolor\": \"white\", \"zerolinewidth\": 2}, \"yaxis\": {\"automargin\": true, \"gridcolor\": \"white\", \"linecolor\": \"white\", \"ticks\": \"\", \"title\": {\"standoff\": 15}, \"zerolinecolor\": \"white\", \"zerolinewidth\": 2}}}, \"width\": 800},                        {\"responsive\": true}                    ).then(function(){\n",
       "                            \n",
       "var gd = document.getElementById('41ad7f59-187b-46e8-adb9-2f3b7f5bccc3');\n",
       "var x = new MutationObserver(function (mutations, observer) {{\n",
       "        var display = window.getComputedStyle(gd).display;\n",
       "        if (!display || display === 'none') {{\n",
       "            console.log([gd, 'removed!']);\n",
       "            Plotly.purge(gd);\n",
       "            observer.disconnect();\n",
       "        }}\n",
       "}});\n",
       "\n",
       "// Listen for the removal of the full notebook cells\n",
       "var notebookContainer = gd.closest('#notebook-container');\n",
       "if (notebookContainer) {{\n",
       "    x.observe(notebookContainer, {childList: true});\n",
       "}}\n",
       "\n",
       "// Listen for the clearing of the current output cell\n",
       "var outputEl = gd.closest('.output');\n",
       "if (outputEl) {{\n",
       "    x.observe(outputEl, {childList: true});\n",
       "}}\n",
       "\n",
       "                        })                };                });            </script>        </div>"
      ]
     },
     "metadata": {},
     "output_type": "display_data"
    }
   ],
   "source": [
    "# xml_data = get_xml_for_period('01.08.2020', '15.08.2020')\n",
    "# save_xml_data_to_file(xml_data, '01.08.2020', '15.08.2020')\n",
    "df = parse_xml_file('../datasets/01.08.2020-15.08.2020.xml')\n",
    "get_map(df)"
   ]
  },
  {
   "cell_type": "code",
   "execution_count": 21,
   "metadata": {},
   "outputs": [],
   "source": [
    "def start_new_cluster(df):\n",
    "    new_cluster_id = df['cluster_id'].max() + 1\n",
    "    for index, row in df.iterrows():\n",
    "        if row['cluster_id'] == 0:\n",
    "            df.at[index,'cluster_id'] = new_cluster_id\n",
    "            return row['lon'], row['lat'], new_cluster_id\n",
    "    return None\n",
    "\n",
    "def get_distance_between(lon1, lat1, lon2, lat2):\n",
    "    # approximate radius of earth in km\n",
    "    R = 6373.0\n",
    "    \n",
    "    lon1_r = radians(lon1)\n",
    "    lat1_r = radians(lat1)\n",
    "    lon2_r = radians(lon2)\n",
    "    lat2_r = radians(lat2)\n",
    "    \n",
    "    dlon = lon2_r - lon1_r\n",
    "    dlat = lat2_r - lat1_r\n",
    "\n",
    "    a = sin(dlat / 2)**2 + cos(lat1_r) * cos(lat2_r) * sin(dlon / 2)**2\n",
    "    c = 2 * atan2(sqrt(a), sqrt(1 - a))\n",
    "\n",
    "    distance = R * c * 1000\n",
    "    return distance\n",
    "        \n",
    "def add_points_to_cluster(df, lon, lat, cluster_id, distance):\n",
    "    for index, row in df.iterrows():\n",
    "        if row['cluster_id'] != 0:\n",
    "            continue\n",
    "        if get_distance_between(lon, lat, row['lon'], row['lat']) > distance:\n",
    "            continue\n",
    "        df.at[index,'cluster_id'] = cluster_id\n",
    "        add_points_to_cluster(df, row['lon'], row['lat'], cluster_id, distance)\n",
    "\n",
    "def get_center(df):\n",
    "    lon = df['lon'].sum() / len(df['lon'])\n",
    "    lat = df['lat'].sum() / len(df['lat'])\n",
    "    return lon, lat\n",
    "    \n",
    "def get_clusters(df):\n",
    "    cluster_dict = {\n",
    "        'cluster_id': [],\n",
    "        'lon': [],\n",
    "        'lat': [],\n",
    "        'count': [],\n",
    "    }\n",
    "    for cluster_id in df['cluster_id'].unique():\n",
    "        filtered = df[df['cluster_id']==cluster_id]\n",
    "        lon, lat = get_center(filtered)\n",
    "        cluster_dict['cluster_id'].append(cluster_id)\n",
    "        cluster_dict['lon'].append(lon)\n",
    "        cluster_dict['lat'].append(lat)\n",
    "        cluster_dict['count'].append(len(filtered))\n",
    "        \n",
    "    cluster_df = pd.DataFrame(cluster_dict)\n",
    "    cluster_df['meta_info'] = [f'count={i}' for i in cluster_df['count']]\n",
    "    return cluster_df\n",
    "\n",
    "def clusterize_dtp(dtp_df, distance):\n",
    "    df = dtp_df.copy()\n",
    "    df['cluster_id'] = 0\n",
    "    while True:\n",
    "        new_cluster = start_new_cluster(df)\n",
    "        if not new_cluster:\n",
    "            break\n",
    "        lon, lat, cluster_id = new_cluster\n",
    "        add_points_to_cluster(df, lon, lat, cluster_id, distance)\n",
    "    cluster_df = get_clusters(df)\n",
    "    return cluster_df"
   ]
  },
  {
   "cell_type": "code",
   "execution_count": 25,
   "metadata": {},
   "outputs": [
    {
     "data": {
      "application/vnd.plotly.v1+json": {
       "config": {
        "plotlyServerURL": "https://plot.ly"
       },
       "data": [
        {
         "lat": [
          59.9092145,
          59.849741,
          59.860679,
          60.022496,
          59.85143,
          59.9366015,
          59.932742,
          59.995848,
          59.70842,
          59.918941,
          60.034127,
          59.824458,
          59.977548,
          59.853108,
          60.051686000000004,
          59.938703,
          59.923353,
          60.001832,
          59.893313,
          59.959297,
          59.913353,
          60.039485,
          60.196028,
          60.186492,
          59.912692,
          59.933511,
          59.887575,
          59.8713505,
          59.702507,
          59.928023,
          59.970891,
          59.944673,
          59.890449,
          59.977687,
          59.929143499999995,
          59.740255,
          59.944555,
          59.94132,
          59.810865,
          59.921802,
          59.925877,
          60.055657,
          59.740828,
          59.829634,
          59.731149,
          60.026023,
          59.990895,
          59.94974,
          59.913644,
          59.7108,
          60.013221,
          60.051057,
          59.830756,
          59.835533,
          59.835403,
          59.888076,
          59.952357,
          60.041611,
          59.93887,
          60.202922,
          60.079582,
          59.851012,
          59.891456,
          59.904338,
          59.900948,
          59.71424,
          59.9302535,
          59.737752,
          59.853583,
          59.85181,
          59.948533999999995,
          59.992414,
          60.019998,
          60.042689,
          60.209602,
          59.908308,
          59.835393,
          59.777468,
          59.884571,
          59.752882,
          59.830734,
          59.85521,
          59.872683,
          60.183078,
          59.829537,
          59.967921,
          59.941498,
          59.999233,
          59.983908,
          59.9365,
          59.819021,
          59.892435,
          59.938692,
          60.168991,
          59.77661,
          60.07408,
          59.946919,
          60.052642,
          60.204559,
          59.938375,
          59.928936,
          59.949789,
          59.921221,
          60.057633,
          60.019703,
          59.919441,
          59.953146,
          60.059818,
          59.841543,
          59.868881,
          59.952904,
          59.740461,
          59.832632,
          59.850457,
          60.043846333333335,
          59.818978,
          59.869145,
          59.978487,
          59.915101,
          60.140159,
          59.900265,
          59.9847,
          59.882822,
          60.036367,
          60.00612,
          59.882714,
          59.85716,
          59.953098,
          59.917806,
          59.7456,
          59.966574,
          59.894766,
          59.906812,
          59.926334,
          60.057408,
          59.9333,
          60.053188,
          59.875936,
          60.067432,
          60.031265,
          59.975873,
          59.95609,
          60.036871,
          59.829122,
          59.945512,
          59.941105,
          59.99956,
          60.034202,
          59.849223,
          59.857392,
          59.923635,
          60.015398,
          59.924528,
          59.879786,
          59.916419,
          59.835145,
          60.006925,
          59.7558,
          59.954328,
          59.779991,
          59.960768,
          59.822029,
          59.968882,
          59.870487,
          60.034695,
          59.974933,
          59.938241,
          60.047286,
          59.846302,
          59.960296,
          59.941573,
          59.99243,
          60.0438705,
          59.864459,
          59.821642,
          60.073855,
          59.802253,
          60.228263,
          59.922038,
          59.977628,
          59.943271,
          59.855916,
          60.033988,
          59.833657,
          59.964689,
          59.7628,
          59.864454,
          60.050216,
          59.814274,
          59.795896,
          59.97343,
          59.962884,
          59.985341,
          59.948381,
          59.97664,
          60.036088,
          59.970026,
          59.835818,
          60.03813,
          59.947505,
          59.983334,
          59.865655,
          59.812343,
          59.831953,
          59.810746,
          59.940374,
          59.935849,
          60.009392,
          59.799954,
          59.962825,
          59.932845,
          59.823692,
          60.017687,
          59.830848,
          59.829796,
          59.845515,
          60.078222,
          59.845672,
          59.948607,
          59.987681
         ],
         "lon": [
          30.3000355,
          30.390662,
          30.391049,
          30.221586,
          30.2559615,
          30.336132499999998,
          30.360096,
          29.699843,
          30.327572,
          30.304284,
          30.426142,
          30.16556,
          30.393097,
          30.314605,
          30.384225,
          30.244879,
          30.335376,
          30.2983295,
          30.319176,
          30.422409,
          30.277644,
          30.370964,
          29.534812,
          29.863404,
          30.438609,
          30.328563,
          30.363164,
          30.379906499999997,
          30.375352,
          30.407099,
          30.386918,
          30.237465,
          30.271829,
          30.301012,
          30.324508,
          30.482104,
          30.49103,
          30.312996,
          30.32881,
          30.478499,
          30.327866,
          30.223957,
          30.325785,
          30.192758,
          30.573267,
          30.003651,
          30.306484,
          30.348219,
          30.478606,
          30.2747,
          30.323639,
          30.341599,
          30.344989,
          30.43936,
          30.127248,
          30.489678,
          30.410188,
          30.016473,
          30.355343,
          29.706688,
          30.265424,
          30.326257,
          30.464101,
          30.471622,
          30.280037,
          30.406637,
          30.3778945,
          30.393623,
          30.360825,
          30.302911,
          30.2314035,
          30.148147,
          30.276099,
          30.33484,
          29.715883,
          30.314133,
          30.146624,
          30.382014,
          30.467427,
          30.580058,
          30.14024,
          30.263751,
          30.259116,
          29.809824,
          30.287719,
          30.482361,
          30.348401,
          30.234246,
          30.300905,
          30.282977,
          30.318768,
          30.255522,
          30.363443,
          29.81962,
          30.652381,
          30.378656,
          30.378206,
          30.227101,
          29.8211,
          30.28023,
          30.41213,
          30.421379,
          30.31777,
          29.977162,
          30.318575,
          30.32557,
          30.323693,
          29.984372,
          30.255425,
          30.347768,
          30.447986,
          30.593029,
          30.44524,
          30.188456,
          30.328184333333336,
          30.366533,
          29.867427,
          30.354205,
          30.460367,
          30.037994,
          30.488842,
          30.1997,
          30.424919,
          30.416379,
          30.273235,
          30.346245,
          30.178499,
          30.349925,
          30.496266,
          30.5028,
          30.281775,
          30.436957,
          30.482726,
          30.295637,
          30.127087,
          30.4347,
          30.332394,
          30.328585,
          30.27022,
          30.429651,
          30.40859,
          30.299252,
          30.36193,
          30.322287,
          30.286131,
          30.291023,
          30.365117,
          30.379847,
          30.256391,
          30.229708,
          30.385029,
          30.245157,
          30.39108,
          30.461311,
          30.41522,
          30.400683,
          30.35339,
          30.3664,
          30.482844,
          30.496588,
          30.228989,
          30.41935,
          30.314262,
          30.408636,
          30.324723,
          30.317223,
          30.3453,
          30.330162,
          30.430734,
          30.303115,
          30.273288,
          29.762392,
          30.379047999999997,
          30.165517,
          30.185913,
          30.351491,
          30.159788,
          29.678321,
          30.305357,
          30.345815,
          30.279136,
          30.247153,
          30.394396,
          30.322695,
          30.330398,
          30.3969,
          30.339625,
          30.393012,
          30.315399,
          30.517251,
          30.333681,
          30.487576,
          30.284725,
          30.327652,
          30.402131,
          30.45216,
          30.220256,
          30.449188,
          30.228605,
          30.303705,
          30.332597,
          30.355954,
          30.171568,
          30.520384,
          30.368088,
          30.268171,
          30.321729,
          30.295658,
          30.164455,
          30.492586,
          30.347146,
          30.187651,
          30.010958,
          30.432966,
          30.538623,
          30.37429,
          30.244653,
          30.205439,
          30.262291,
          30.31408
         ],
         "marker": {
          "size": 14
         },
         "mode": "markers",
         "text": [
          "count=2",
          "count=1",
          "count=1",
          "count=1",
          "count=2",
          "count=2",
          "count=1",
          "count=1",
          "count=1",
          "count=1",
          "count=1",
          "count=1",
          "count=1",
          "count=1",
          "count=2",
          "count=1",
          "count=2",
          "count=2",
          "count=1",
          "count=1",
          "count=1",
          "count=1",
          "count=1",
          "count=1",
          "count=1",
          "count=1",
          "count=1",
          "count=2",
          "count=1",
          "count=1",
          "count=1",
          "count=1",
          "count=1",
          "count=1",
          "count=2",
          "count=1",
          "count=1",
          "count=1",
          "count=1",
          "count=1",
          "count=1",
          "count=1",
          "count=1",
          "count=1",
          "count=1",
          "count=1",
          "count=1",
          "count=1",
          "count=1",
          "count=1",
          "count=1",
          "count=1",
          "count=1",
          "count=1",
          "count=1",
          "count=1",
          "count=1",
          "count=1",
          "count=1",
          "count=1",
          "count=1",
          "count=1",
          "count=1",
          "count=1",
          "count=1",
          "count=1",
          "count=2",
          "count=1",
          "count=1",
          "count=1",
          "count=2",
          "count=1",
          "count=1",
          "count=1",
          "count=1",
          "count=1",
          "count=1",
          "count=1",
          "count=1",
          "count=1",
          "count=1",
          "count=1",
          "count=1",
          "count=1",
          "count=1",
          "count=1",
          "count=1",
          "count=1",
          "count=1",
          "count=1",
          "count=1",
          "count=1",
          "count=1",
          "count=1",
          "count=1",
          "count=1",
          "count=1",
          "count=1",
          "count=1",
          "count=1",
          "count=1",
          "count=1",
          "count=1",
          "count=1",
          "count=1",
          "count=1",
          "count=1",
          "count=1",
          "count=1",
          "count=1",
          "count=1",
          "count=1",
          "count=1",
          "count=1",
          "count=3",
          "count=1",
          "count=1",
          "count=1",
          "count=1",
          "count=1",
          "count=1",
          "count=1",
          "count=1",
          "count=1",
          "count=1",
          "count=1",
          "count=1",
          "count=1",
          "count=1",
          "count=1",
          "count=1",
          "count=1",
          "count=1",
          "count=1",
          "count=1",
          "count=1",
          "count=1",
          "count=1",
          "count=1",
          "count=1",
          "count=1",
          "count=1",
          "count=1",
          "count=1",
          "count=1",
          "count=1",
          "count=1",
          "count=1",
          "count=1",
          "count=1",
          "count=1",
          "count=1",
          "count=1",
          "count=1",
          "count=1",
          "count=1",
          "count=1",
          "count=1",
          "count=1",
          "count=1",
          "count=1",
          "count=1",
          "count=1",
          "count=1",
          "count=1",
          "count=1",
          "count=1",
          "count=1",
          "count=1",
          "count=1",
          "count=1",
          "count=1",
          "count=2",
          "count=1",
          "count=1",
          "count=1",
          "count=1",
          "count=1",
          "count=1",
          "count=1",
          "count=1",
          "count=1",
          "count=1",
          "count=1",
          "count=1",
          "count=1",
          "count=1",
          "count=1",
          "count=1",
          "count=1",
          "count=1",
          "count=1",
          "count=1",
          "count=1",
          "count=1",
          "count=1",
          "count=1",
          "count=1",
          "count=1",
          "count=1",
          "count=1",
          "count=1",
          "count=1",
          "count=1",
          "count=1",
          "count=1",
          "count=1",
          "count=1",
          "count=1",
          "count=1",
          "count=1",
          "count=1",
          "count=1",
          "count=1",
          "count=1",
          "count=1",
          "count=1",
          "count=1",
          "count=1",
          "count=1"
         ],
         "type": "scattermapbox"
        }
       ],
       "layout": {
        "height": 800,
        "hovermode": "closest",
        "mapbox": {
         "accesstoken": "pk.eyJ1Ijoicm9tYW4tZm9taW4iLCJhIjoiY2tnaHdkdXdtMjRyMDJxcWF6cXl4M3hkeCJ9.nBIlp6wUXfsUSach1AgjDw",
         "bearing": 0,
         "center": {
          "lat": 60.007568,
          "lon": 30.259566
         },
         "pitch": 0,
         "style": "open-street-map",
         "zoom": 12
        },
        "template": {
         "data": {
          "bar": [
           {
            "error_x": {
             "color": "#2a3f5f"
            },
            "error_y": {
             "color": "#2a3f5f"
            },
            "marker": {
             "line": {
              "color": "#E5ECF6",
              "width": 0.5
             }
            },
            "type": "bar"
           }
          ],
          "barpolar": [
           {
            "marker": {
             "line": {
              "color": "#E5ECF6",
              "width": 0.5
             }
            },
            "type": "barpolar"
           }
          ],
          "carpet": [
           {
            "aaxis": {
             "endlinecolor": "#2a3f5f",
             "gridcolor": "white",
             "linecolor": "white",
             "minorgridcolor": "white",
             "startlinecolor": "#2a3f5f"
            },
            "baxis": {
             "endlinecolor": "#2a3f5f",
             "gridcolor": "white",
             "linecolor": "white",
             "minorgridcolor": "white",
             "startlinecolor": "#2a3f5f"
            },
            "type": "carpet"
           }
          ],
          "choropleth": [
           {
            "colorbar": {
             "outlinewidth": 0,
             "ticks": ""
            },
            "type": "choropleth"
           }
          ],
          "contour": [
           {
            "colorbar": {
             "outlinewidth": 0,
             "ticks": ""
            },
            "colorscale": [
             [
              0,
              "#0d0887"
             ],
             [
              0.1111111111111111,
              "#46039f"
             ],
             [
              0.2222222222222222,
              "#7201a8"
             ],
             [
              0.3333333333333333,
              "#9c179e"
             ],
             [
              0.4444444444444444,
              "#bd3786"
             ],
             [
              0.5555555555555556,
              "#d8576b"
             ],
             [
              0.6666666666666666,
              "#ed7953"
             ],
             [
              0.7777777777777778,
              "#fb9f3a"
             ],
             [
              0.8888888888888888,
              "#fdca26"
             ],
             [
              1,
              "#f0f921"
             ]
            ],
            "type": "contour"
           }
          ],
          "contourcarpet": [
           {
            "colorbar": {
             "outlinewidth": 0,
             "ticks": ""
            },
            "type": "contourcarpet"
           }
          ],
          "heatmap": [
           {
            "colorbar": {
             "outlinewidth": 0,
             "ticks": ""
            },
            "colorscale": [
             [
              0,
              "#0d0887"
             ],
             [
              0.1111111111111111,
              "#46039f"
             ],
             [
              0.2222222222222222,
              "#7201a8"
             ],
             [
              0.3333333333333333,
              "#9c179e"
             ],
             [
              0.4444444444444444,
              "#bd3786"
             ],
             [
              0.5555555555555556,
              "#d8576b"
             ],
             [
              0.6666666666666666,
              "#ed7953"
             ],
             [
              0.7777777777777778,
              "#fb9f3a"
             ],
             [
              0.8888888888888888,
              "#fdca26"
             ],
             [
              1,
              "#f0f921"
             ]
            ],
            "type": "heatmap"
           }
          ],
          "heatmapgl": [
           {
            "colorbar": {
             "outlinewidth": 0,
             "ticks": ""
            },
            "colorscale": [
             [
              0,
              "#0d0887"
             ],
             [
              0.1111111111111111,
              "#46039f"
             ],
             [
              0.2222222222222222,
              "#7201a8"
             ],
             [
              0.3333333333333333,
              "#9c179e"
             ],
             [
              0.4444444444444444,
              "#bd3786"
             ],
             [
              0.5555555555555556,
              "#d8576b"
             ],
             [
              0.6666666666666666,
              "#ed7953"
             ],
             [
              0.7777777777777778,
              "#fb9f3a"
             ],
             [
              0.8888888888888888,
              "#fdca26"
             ],
             [
              1,
              "#f0f921"
             ]
            ],
            "type": "heatmapgl"
           }
          ],
          "histogram": [
           {
            "marker": {
             "colorbar": {
              "outlinewidth": 0,
              "ticks": ""
             }
            },
            "type": "histogram"
           }
          ],
          "histogram2d": [
           {
            "colorbar": {
             "outlinewidth": 0,
             "ticks": ""
            },
            "colorscale": [
             [
              0,
              "#0d0887"
             ],
             [
              0.1111111111111111,
              "#46039f"
             ],
             [
              0.2222222222222222,
              "#7201a8"
             ],
             [
              0.3333333333333333,
              "#9c179e"
             ],
             [
              0.4444444444444444,
              "#bd3786"
             ],
             [
              0.5555555555555556,
              "#d8576b"
             ],
             [
              0.6666666666666666,
              "#ed7953"
             ],
             [
              0.7777777777777778,
              "#fb9f3a"
             ],
             [
              0.8888888888888888,
              "#fdca26"
             ],
             [
              1,
              "#f0f921"
             ]
            ],
            "type": "histogram2d"
           }
          ],
          "histogram2dcontour": [
           {
            "colorbar": {
             "outlinewidth": 0,
             "ticks": ""
            },
            "colorscale": [
             [
              0,
              "#0d0887"
             ],
             [
              0.1111111111111111,
              "#46039f"
             ],
             [
              0.2222222222222222,
              "#7201a8"
             ],
             [
              0.3333333333333333,
              "#9c179e"
             ],
             [
              0.4444444444444444,
              "#bd3786"
             ],
             [
              0.5555555555555556,
              "#d8576b"
             ],
             [
              0.6666666666666666,
              "#ed7953"
             ],
             [
              0.7777777777777778,
              "#fb9f3a"
             ],
             [
              0.8888888888888888,
              "#fdca26"
             ],
             [
              1,
              "#f0f921"
             ]
            ],
            "type": "histogram2dcontour"
           }
          ],
          "mesh3d": [
           {
            "colorbar": {
             "outlinewidth": 0,
             "ticks": ""
            },
            "type": "mesh3d"
           }
          ],
          "parcoords": [
           {
            "line": {
             "colorbar": {
              "outlinewidth": 0,
              "ticks": ""
             }
            },
            "type": "parcoords"
           }
          ],
          "pie": [
           {
            "automargin": true,
            "type": "pie"
           }
          ],
          "scatter": [
           {
            "marker": {
             "colorbar": {
              "outlinewidth": 0,
              "ticks": ""
             }
            },
            "type": "scatter"
           }
          ],
          "scatter3d": [
           {
            "line": {
             "colorbar": {
              "outlinewidth": 0,
              "ticks": ""
             }
            },
            "marker": {
             "colorbar": {
              "outlinewidth": 0,
              "ticks": ""
             }
            },
            "type": "scatter3d"
           }
          ],
          "scattercarpet": [
           {
            "marker": {
             "colorbar": {
              "outlinewidth": 0,
              "ticks": ""
             }
            },
            "type": "scattercarpet"
           }
          ],
          "scattergeo": [
           {
            "marker": {
             "colorbar": {
              "outlinewidth": 0,
              "ticks": ""
             }
            },
            "type": "scattergeo"
           }
          ],
          "scattergl": [
           {
            "marker": {
             "colorbar": {
              "outlinewidth": 0,
              "ticks": ""
             }
            },
            "type": "scattergl"
           }
          ],
          "scattermapbox": [
           {
            "marker": {
             "colorbar": {
              "outlinewidth": 0,
              "ticks": ""
             }
            },
            "type": "scattermapbox"
           }
          ],
          "scatterpolar": [
           {
            "marker": {
             "colorbar": {
              "outlinewidth": 0,
              "ticks": ""
             }
            },
            "type": "scatterpolar"
           }
          ],
          "scatterpolargl": [
           {
            "marker": {
             "colorbar": {
              "outlinewidth": 0,
              "ticks": ""
             }
            },
            "type": "scatterpolargl"
           }
          ],
          "scatterternary": [
           {
            "marker": {
             "colorbar": {
              "outlinewidth": 0,
              "ticks": ""
             }
            },
            "type": "scatterternary"
           }
          ],
          "surface": [
           {
            "colorbar": {
             "outlinewidth": 0,
             "ticks": ""
            },
            "colorscale": [
             [
              0,
              "#0d0887"
             ],
             [
              0.1111111111111111,
              "#46039f"
             ],
             [
              0.2222222222222222,
              "#7201a8"
             ],
             [
              0.3333333333333333,
              "#9c179e"
             ],
             [
              0.4444444444444444,
              "#bd3786"
             ],
             [
              0.5555555555555556,
              "#d8576b"
             ],
             [
              0.6666666666666666,
              "#ed7953"
             ],
             [
              0.7777777777777778,
              "#fb9f3a"
             ],
             [
              0.8888888888888888,
              "#fdca26"
             ],
             [
              1,
              "#f0f921"
             ]
            ],
            "type": "surface"
           }
          ],
          "table": [
           {
            "cells": {
             "fill": {
              "color": "#EBF0F8"
             },
             "line": {
              "color": "white"
             }
            },
            "header": {
             "fill": {
              "color": "#C8D4E3"
             },
             "line": {
              "color": "white"
             }
            },
            "type": "table"
           }
          ]
         },
         "layout": {
          "annotationdefaults": {
           "arrowcolor": "#2a3f5f",
           "arrowhead": 0,
           "arrowwidth": 1
          },
          "coloraxis": {
           "colorbar": {
            "outlinewidth": 0,
            "ticks": ""
           }
          },
          "colorscale": {
           "diverging": [
            [
             0,
             "#8e0152"
            ],
            [
             0.1,
             "#c51b7d"
            ],
            [
             0.2,
             "#de77ae"
            ],
            [
             0.3,
             "#f1b6da"
            ],
            [
             0.4,
             "#fde0ef"
            ],
            [
             0.5,
             "#f7f7f7"
            ],
            [
             0.6,
             "#e6f5d0"
            ],
            [
             0.7,
             "#b8e186"
            ],
            [
             0.8,
             "#7fbc41"
            ],
            [
             0.9,
             "#4d9221"
            ],
            [
             1,
             "#276419"
            ]
           ],
           "sequential": [
            [
             0,
             "#0d0887"
            ],
            [
             0.1111111111111111,
             "#46039f"
            ],
            [
             0.2222222222222222,
             "#7201a8"
            ],
            [
             0.3333333333333333,
             "#9c179e"
            ],
            [
             0.4444444444444444,
             "#bd3786"
            ],
            [
             0.5555555555555556,
             "#d8576b"
            ],
            [
             0.6666666666666666,
             "#ed7953"
            ],
            [
             0.7777777777777778,
             "#fb9f3a"
            ],
            [
             0.8888888888888888,
             "#fdca26"
            ],
            [
             1,
             "#f0f921"
            ]
           ],
           "sequentialminus": [
            [
             0,
             "#0d0887"
            ],
            [
             0.1111111111111111,
             "#46039f"
            ],
            [
             0.2222222222222222,
             "#7201a8"
            ],
            [
             0.3333333333333333,
             "#9c179e"
            ],
            [
             0.4444444444444444,
             "#bd3786"
            ],
            [
             0.5555555555555556,
             "#d8576b"
            ],
            [
             0.6666666666666666,
             "#ed7953"
            ],
            [
             0.7777777777777778,
             "#fb9f3a"
            ],
            [
             0.8888888888888888,
             "#fdca26"
            ],
            [
             1,
             "#f0f921"
            ]
           ]
          },
          "colorway": [
           "#636efa",
           "#EF553B",
           "#00cc96",
           "#ab63fa",
           "#FFA15A",
           "#19d3f3",
           "#FF6692",
           "#B6E880",
           "#FF97FF",
           "#FECB52"
          ],
          "font": {
           "color": "#2a3f5f"
          },
          "geo": {
           "bgcolor": "white",
           "lakecolor": "white",
           "landcolor": "#E5ECF6",
           "showlakes": true,
           "showland": true,
           "subunitcolor": "white"
          },
          "hoverlabel": {
           "align": "left"
          },
          "hovermode": "closest",
          "mapbox": {
           "style": "light"
          },
          "paper_bgcolor": "white",
          "plot_bgcolor": "#E5ECF6",
          "polar": {
           "angularaxis": {
            "gridcolor": "white",
            "linecolor": "white",
            "ticks": ""
           },
           "bgcolor": "#E5ECF6",
           "radialaxis": {
            "gridcolor": "white",
            "linecolor": "white",
            "ticks": ""
           }
          },
          "scene": {
           "xaxis": {
            "backgroundcolor": "#E5ECF6",
            "gridcolor": "white",
            "gridwidth": 2,
            "linecolor": "white",
            "showbackground": true,
            "ticks": "",
            "zerolinecolor": "white"
           },
           "yaxis": {
            "backgroundcolor": "#E5ECF6",
            "gridcolor": "white",
            "gridwidth": 2,
            "linecolor": "white",
            "showbackground": true,
            "ticks": "",
            "zerolinecolor": "white"
           },
           "zaxis": {
            "backgroundcolor": "#E5ECF6",
            "gridcolor": "white",
            "gridwidth": 2,
            "linecolor": "white",
            "showbackground": true,
            "ticks": "",
            "zerolinecolor": "white"
           }
          },
          "shapedefaults": {
           "line": {
            "color": "#2a3f5f"
           }
          },
          "ternary": {
           "aaxis": {
            "gridcolor": "white",
            "linecolor": "white",
            "ticks": ""
           },
           "baxis": {
            "gridcolor": "white",
            "linecolor": "white",
            "ticks": ""
           },
           "bgcolor": "#E5ECF6",
           "caxis": {
            "gridcolor": "white",
            "linecolor": "white",
            "ticks": ""
           }
          },
          "title": {
           "x": 0.05
          },
          "xaxis": {
           "automargin": true,
           "gridcolor": "white",
           "linecolor": "white",
           "ticks": "",
           "title": {
            "standoff": 15
           },
           "zerolinecolor": "white",
           "zerolinewidth": 2
          },
          "yaxis": {
           "automargin": true,
           "gridcolor": "white",
           "linecolor": "white",
           "ticks": "",
           "title": {
            "standoff": 15
           },
           "zerolinecolor": "white",
           "zerolinewidth": 2
          }
         }
        },
        "width": 800
       }
      },
      "text/html": [
       "<div>                            <div id=\"e9b649ff-d60e-46a5-a8f3-db781bb20029\" class=\"plotly-graph-div\" style=\"height:800px; width:800px;\"></div>            <script type=\"text/javascript\">                require([\"plotly\"], function(Plotly) {                    window.PLOTLYENV=window.PLOTLYENV || {};                                    if (document.getElementById(\"e9b649ff-d60e-46a5-a8f3-db781bb20029\")) {                    Plotly.newPlot(                        \"e9b649ff-d60e-46a5-a8f3-db781bb20029\",                        [{\"lat\": [59.9092145, 59.849741, 59.860679, 60.022496, 59.85143, 59.9366015, 59.932742, 59.995848, 59.70842, 59.918941, 60.034127, 59.824458, 59.977548, 59.853108, 60.051686000000004, 59.938703, 59.923353, 60.001832, 59.893313, 59.959297, 59.913353, 60.039485, 60.196028, 60.186492, 59.912692, 59.933511, 59.887575, 59.8713505, 59.702507, 59.928023, 59.970891, 59.944673, 59.890449, 59.977687, 59.929143499999995, 59.740255, 59.944555, 59.94132, 59.810865, 59.921802, 59.925877, 60.055657, 59.740828, 59.829634, 59.731149, 60.026023, 59.990895, 59.94974, 59.913644, 59.7108, 60.013221, 60.051057, 59.830756, 59.835533, 59.835403, 59.888076, 59.952357, 60.041611, 59.93887, 60.202922, 60.079582, 59.851012, 59.891456, 59.904338, 59.900948, 59.71424, 59.9302535, 59.737752, 59.853583, 59.85181, 59.948533999999995, 59.992414, 60.019998, 60.042689, 60.209602, 59.908308, 59.835393, 59.777468, 59.884571, 59.752882, 59.830734, 59.85521, 59.872683, 60.183078, 59.829537, 59.967921, 59.941498, 59.999233, 59.983908, 59.9365, 59.819021, 59.892435, 59.938692, 60.168991, 59.77661, 60.07408, 59.946919, 60.052642, 60.204559, 59.938375, 59.928936, 59.949789, 59.921221, 60.057633, 60.019703, 59.919441, 59.953146, 60.059818, 59.841543, 59.868881, 59.952904, 59.740461, 59.832632, 59.850457, 60.043846333333335, 59.818978, 59.869145, 59.978487, 59.915101, 60.140159, 59.900265, 59.9847, 59.882822, 60.036367, 60.00612, 59.882714, 59.85716, 59.953098, 59.917806, 59.7456, 59.966574, 59.894766, 59.906812, 59.926334, 60.057408, 59.9333, 60.053188, 59.875936, 60.067432, 60.031265, 59.975873, 59.95609, 60.036871, 59.829122, 59.945512, 59.941105, 59.99956, 60.034202, 59.849223, 59.857392, 59.923635, 60.015398, 59.924528, 59.879786, 59.916419, 59.835145, 60.006925, 59.7558, 59.954328, 59.779991, 59.960768, 59.822029, 59.968882, 59.870487, 60.034695, 59.974933, 59.938241, 60.047286, 59.846302, 59.960296, 59.941573, 59.99243, 60.0438705, 59.864459, 59.821642, 60.073855, 59.802253, 60.228263, 59.922038, 59.977628, 59.943271, 59.855916, 60.033988, 59.833657, 59.964689, 59.7628, 59.864454, 60.050216, 59.814274, 59.795896, 59.97343, 59.962884, 59.985341, 59.948381, 59.97664, 60.036088, 59.970026, 59.835818, 60.03813, 59.947505, 59.983334, 59.865655, 59.812343, 59.831953, 59.810746, 59.940374, 59.935849, 60.009392, 59.799954, 59.962825, 59.932845, 59.823692, 60.017687, 59.830848, 59.829796, 59.845515, 60.078222, 59.845672, 59.948607, 59.987681], \"lon\": [30.3000355, 30.390662, 30.391049, 30.221586, 30.2559615, 30.336132499999998, 30.360096, 29.699843, 30.327572, 30.304284, 30.426142, 30.16556, 30.393097, 30.314605, 30.384225, 30.244879, 30.335376, 30.2983295, 30.319176, 30.422409, 30.277644, 30.370964, 29.534812, 29.863404, 30.438609, 30.328563, 30.363164, 30.379906499999997, 30.375352, 30.407099, 30.386918, 30.237465, 30.271829, 30.301012, 30.324508, 30.482104, 30.49103, 30.312996, 30.32881, 30.478499, 30.327866, 30.223957, 30.325785, 30.192758, 30.573267, 30.003651, 30.306484, 30.348219, 30.478606, 30.2747, 30.323639, 30.341599, 30.344989, 30.43936, 30.127248, 30.489678, 30.410188, 30.016473, 30.355343, 29.706688, 30.265424, 30.326257, 30.464101, 30.471622, 30.280037, 30.406637, 30.3778945, 30.393623, 30.360825, 30.302911, 30.2314035, 30.148147, 30.276099, 30.33484, 29.715883, 30.314133, 30.146624, 30.382014, 30.467427, 30.580058, 30.14024, 30.263751, 30.259116, 29.809824, 30.287719, 30.482361, 30.348401, 30.234246, 30.300905, 30.282977, 30.318768, 30.255522, 30.363443, 29.81962, 30.652381, 30.378656, 30.378206, 30.227101, 29.8211, 30.28023, 30.41213, 30.421379, 30.31777, 29.977162, 30.318575, 30.32557, 30.323693, 29.984372, 30.255425, 30.347768, 30.447986, 30.593029, 30.44524, 30.188456, 30.328184333333336, 30.366533, 29.867427, 30.354205, 30.460367, 30.037994, 30.488842, 30.1997, 30.424919, 30.416379, 30.273235, 30.346245, 30.178499, 30.349925, 30.496266, 30.5028, 30.281775, 30.436957, 30.482726, 30.295637, 30.127087, 30.4347, 30.332394, 30.328585, 30.27022, 30.429651, 30.40859, 30.299252, 30.36193, 30.322287, 30.286131, 30.291023, 30.365117, 30.379847, 30.256391, 30.229708, 30.385029, 30.245157, 30.39108, 30.461311, 30.41522, 30.400683, 30.35339, 30.3664, 30.482844, 30.496588, 30.228989, 30.41935, 30.314262, 30.408636, 30.324723, 30.317223, 30.3453, 30.330162, 30.430734, 30.303115, 30.273288, 29.762392, 30.379047999999997, 30.165517, 30.185913, 30.351491, 30.159788, 29.678321, 30.305357, 30.345815, 30.279136, 30.247153, 30.394396, 30.322695, 30.330398, 30.3969, 30.339625, 30.393012, 30.315399, 30.517251, 30.333681, 30.487576, 30.284725, 30.327652, 30.402131, 30.45216, 30.220256, 30.449188, 30.228605, 30.303705, 30.332597, 30.355954, 30.171568, 30.520384, 30.368088, 30.268171, 30.321729, 30.295658, 30.164455, 30.492586, 30.347146, 30.187651, 30.010958, 30.432966, 30.538623, 30.37429, 30.244653, 30.205439, 30.262291, 30.31408], \"marker\": {\"size\": 14}, \"mode\": \"markers\", \"text\": [\"count=2\", \"count=1\", \"count=1\", \"count=1\", \"count=2\", \"count=2\", \"count=1\", \"count=1\", \"count=1\", \"count=1\", \"count=1\", \"count=1\", \"count=1\", \"count=1\", \"count=2\", \"count=1\", \"count=2\", \"count=2\", \"count=1\", \"count=1\", \"count=1\", \"count=1\", \"count=1\", \"count=1\", \"count=1\", \"count=1\", \"count=1\", \"count=2\", \"count=1\", \"count=1\", \"count=1\", \"count=1\", \"count=1\", \"count=1\", \"count=2\", \"count=1\", \"count=1\", \"count=1\", \"count=1\", \"count=1\", \"count=1\", \"count=1\", \"count=1\", \"count=1\", \"count=1\", \"count=1\", \"count=1\", \"count=1\", \"count=1\", \"count=1\", \"count=1\", \"count=1\", \"count=1\", \"count=1\", \"count=1\", \"count=1\", \"count=1\", \"count=1\", \"count=1\", \"count=1\", \"count=1\", \"count=1\", \"count=1\", \"count=1\", \"count=1\", \"count=1\", \"count=2\", \"count=1\", \"count=1\", \"count=1\", \"count=2\", \"count=1\", \"count=1\", \"count=1\", \"count=1\", \"count=1\", \"count=1\", \"count=1\", \"count=1\", \"count=1\", \"count=1\", \"count=1\", \"count=1\", \"count=1\", \"count=1\", \"count=1\", \"count=1\", \"count=1\", \"count=1\", \"count=1\", \"count=1\", \"count=1\", \"count=1\", \"count=1\", \"count=1\", \"count=1\", \"count=1\", \"count=1\", \"count=1\", \"count=1\", \"count=1\", \"count=1\", \"count=1\", \"count=1\", \"count=1\", \"count=1\", \"count=1\", \"count=1\", \"count=1\", \"count=1\", \"count=1\", \"count=1\", \"count=1\", \"count=1\", \"count=3\", \"count=1\", \"count=1\", \"count=1\", \"count=1\", \"count=1\", \"count=1\", \"count=1\", \"count=1\", \"count=1\", \"count=1\", \"count=1\", \"count=1\", \"count=1\", \"count=1\", \"count=1\", \"count=1\", \"count=1\", \"count=1\", \"count=1\", \"count=1\", \"count=1\", \"count=1\", \"count=1\", \"count=1\", \"count=1\", \"count=1\", \"count=1\", \"count=1\", \"count=1\", \"count=1\", \"count=1\", \"count=1\", \"count=1\", \"count=1\", \"count=1\", \"count=1\", \"count=1\", \"count=1\", \"count=1\", \"count=1\", \"count=1\", \"count=1\", \"count=1\", \"count=1\", \"count=1\", \"count=1\", \"count=1\", \"count=1\", \"count=1\", \"count=1\", \"count=1\", \"count=1\", \"count=1\", \"count=1\", \"count=1\", \"count=1\", \"count=1\", \"count=2\", \"count=1\", \"count=1\", \"count=1\", \"count=1\", \"count=1\", \"count=1\", \"count=1\", \"count=1\", \"count=1\", \"count=1\", \"count=1\", \"count=1\", \"count=1\", \"count=1\", \"count=1\", \"count=1\", \"count=1\", \"count=1\", \"count=1\", \"count=1\", \"count=1\", \"count=1\", \"count=1\", \"count=1\", \"count=1\", \"count=1\", \"count=1\", \"count=1\", \"count=1\", \"count=1\", \"count=1\", \"count=1\", \"count=1\", \"count=1\", \"count=1\", \"count=1\", \"count=1\", \"count=1\", \"count=1\", \"count=1\", \"count=1\", \"count=1\", \"count=1\", \"count=1\", \"count=1\", \"count=1\", \"count=1\"], \"type\": \"scattermapbox\"}],                        {\"height\": 800, \"hovermode\": \"closest\", \"mapbox\": {\"accesstoken\": \"pk.eyJ1Ijoicm9tYW4tZm9taW4iLCJhIjoiY2tnaHdkdXdtMjRyMDJxcWF6cXl4M3hkeCJ9.nBIlp6wUXfsUSach1AgjDw\", \"bearing\": 0, \"center\": {\"lat\": 60.007568, \"lon\": 30.259566}, \"pitch\": 0, \"style\": \"open-street-map\", \"zoom\": 12}, \"template\": {\"data\": {\"bar\": [{\"error_x\": {\"color\": \"#2a3f5f\"}, \"error_y\": {\"color\": \"#2a3f5f\"}, \"marker\": {\"line\": {\"color\": \"#E5ECF6\", \"width\": 0.5}}, \"type\": \"bar\"}], \"barpolar\": [{\"marker\": {\"line\": {\"color\": \"#E5ECF6\", \"width\": 0.5}}, \"type\": \"barpolar\"}], \"carpet\": [{\"aaxis\": {\"endlinecolor\": \"#2a3f5f\", \"gridcolor\": \"white\", \"linecolor\": \"white\", \"minorgridcolor\": \"white\", \"startlinecolor\": \"#2a3f5f\"}, \"baxis\": {\"endlinecolor\": \"#2a3f5f\", \"gridcolor\": \"white\", \"linecolor\": \"white\", \"minorgridcolor\": \"white\", \"startlinecolor\": \"#2a3f5f\"}, \"type\": \"carpet\"}], \"choropleth\": [{\"colorbar\": {\"outlinewidth\": 0, \"ticks\": \"\"}, \"type\": \"choropleth\"}], \"contour\": [{\"colorbar\": {\"outlinewidth\": 0, \"ticks\": \"\"}, \"colorscale\": [[0.0, \"#0d0887\"], [0.1111111111111111, \"#46039f\"], [0.2222222222222222, \"#7201a8\"], [0.3333333333333333, \"#9c179e\"], [0.4444444444444444, \"#bd3786\"], [0.5555555555555556, \"#d8576b\"], [0.6666666666666666, \"#ed7953\"], [0.7777777777777778, \"#fb9f3a\"], [0.8888888888888888, \"#fdca26\"], [1.0, \"#f0f921\"]], \"type\": \"contour\"}], \"contourcarpet\": [{\"colorbar\": {\"outlinewidth\": 0, \"ticks\": \"\"}, \"type\": \"contourcarpet\"}], \"heatmap\": [{\"colorbar\": {\"outlinewidth\": 0, \"ticks\": \"\"}, \"colorscale\": [[0.0, \"#0d0887\"], [0.1111111111111111, \"#46039f\"], [0.2222222222222222, \"#7201a8\"], [0.3333333333333333, \"#9c179e\"], [0.4444444444444444, \"#bd3786\"], [0.5555555555555556, \"#d8576b\"], [0.6666666666666666, \"#ed7953\"], [0.7777777777777778, \"#fb9f3a\"], [0.8888888888888888, \"#fdca26\"], [1.0, \"#f0f921\"]], \"type\": \"heatmap\"}], \"heatmapgl\": [{\"colorbar\": {\"outlinewidth\": 0, \"ticks\": \"\"}, \"colorscale\": [[0.0, \"#0d0887\"], [0.1111111111111111, \"#46039f\"], [0.2222222222222222, \"#7201a8\"], [0.3333333333333333, \"#9c179e\"], [0.4444444444444444, \"#bd3786\"], [0.5555555555555556, \"#d8576b\"], [0.6666666666666666, \"#ed7953\"], [0.7777777777777778, \"#fb9f3a\"], [0.8888888888888888, \"#fdca26\"], [1.0, \"#f0f921\"]], \"type\": \"heatmapgl\"}], \"histogram\": [{\"marker\": {\"colorbar\": {\"outlinewidth\": 0, \"ticks\": \"\"}}, \"type\": \"histogram\"}], \"histogram2d\": [{\"colorbar\": {\"outlinewidth\": 0, \"ticks\": \"\"}, \"colorscale\": [[0.0, \"#0d0887\"], [0.1111111111111111, \"#46039f\"], [0.2222222222222222, \"#7201a8\"], [0.3333333333333333, \"#9c179e\"], [0.4444444444444444, \"#bd3786\"], [0.5555555555555556, \"#d8576b\"], [0.6666666666666666, \"#ed7953\"], [0.7777777777777778, \"#fb9f3a\"], [0.8888888888888888, \"#fdca26\"], [1.0, \"#f0f921\"]], \"type\": \"histogram2d\"}], \"histogram2dcontour\": [{\"colorbar\": {\"outlinewidth\": 0, \"ticks\": \"\"}, \"colorscale\": [[0.0, \"#0d0887\"], [0.1111111111111111, \"#46039f\"], [0.2222222222222222, \"#7201a8\"], [0.3333333333333333, \"#9c179e\"], [0.4444444444444444, \"#bd3786\"], [0.5555555555555556, \"#d8576b\"], [0.6666666666666666, \"#ed7953\"], [0.7777777777777778, \"#fb9f3a\"], [0.8888888888888888, \"#fdca26\"], [1.0, \"#f0f921\"]], \"type\": \"histogram2dcontour\"}], \"mesh3d\": [{\"colorbar\": {\"outlinewidth\": 0, \"ticks\": \"\"}, \"type\": \"mesh3d\"}], \"parcoords\": [{\"line\": {\"colorbar\": {\"outlinewidth\": 0, \"ticks\": \"\"}}, \"type\": \"parcoords\"}], \"pie\": [{\"automargin\": true, \"type\": \"pie\"}], \"scatter\": [{\"marker\": {\"colorbar\": {\"outlinewidth\": 0, \"ticks\": \"\"}}, \"type\": \"scatter\"}], \"scatter3d\": [{\"line\": {\"colorbar\": {\"outlinewidth\": 0, \"ticks\": \"\"}}, \"marker\": {\"colorbar\": {\"outlinewidth\": 0, \"ticks\": \"\"}}, \"type\": \"scatter3d\"}], \"scattercarpet\": [{\"marker\": {\"colorbar\": {\"outlinewidth\": 0, \"ticks\": \"\"}}, \"type\": \"scattercarpet\"}], \"scattergeo\": [{\"marker\": {\"colorbar\": {\"outlinewidth\": 0, \"ticks\": \"\"}}, \"type\": \"scattergeo\"}], \"scattergl\": [{\"marker\": {\"colorbar\": {\"outlinewidth\": 0, \"ticks\": \"\"}}, \"type\": \"scattergl\"}], \"scattermapbox\": [{\"marker\": {\"colorbar\": {\"outlinewidth\": 0, \"ticks\": \"\"}}, \"type\": \"scattermapbox\"}], \"scatterpolar\": [{\"marker\": {\"colorbar\": {\"outlinewidth\": 0, \"ticks\": \"\"}}, \"type\": \"scatterpolar\"}], \"scatterpolargl\": [{\"marker\": {\"colorbar\": {\"outlinewidth\": 0, \"ticks\": \"\"}}, \"type\": \"scatterpolargl\"}], \"scatterternary\": [{\"marker\": {\"colorbar\": {\"outlinewidth\": 0, \"ticks\": \"\"}}, \"type\": \"scatterternary\"}], \"surface\": [{\"colorbar\": {\"outlinewidth\": 0, \"ticks\": \"\"}, \"colorscale\": [[0.0, \"#0d0887\"], [0.1111111111111111, \"#46039f\"], [0.2222222222222222, \"#7201a8\"], [0.3333333333333333, \"#9c179e\"], [0.4444444444444444, \"#bd3786\"], [0.5555555555555556, \"#d8576b\"], [0.6666666666666666, \"#ed7953\"], [0.7777777777777778, \"#fb9f3a\"], [0.8888888888888888, \"#fdca26\"], [1.0, \"#f0f921\"]], \"type\": \"surface\"}], \"table\": [{\"cells\": {\"fill\": {\"color\": \"#EBF0F8\"}, \"line\": {\"color\": \"white\"}}, \"header\": {\"fill\": {\"color\": \"#C8D4E3\"}, \"line\": {\"color\": \"white\"}}, \"type\": \"table\"}]}, \"layout\": {\"annotationdefaults\": {\"arrowcolor\": \"#2a3f5f\", \"arrowhead\": 0, \"arrowwidth\": 1}, \"coloraxis\": {\"colorbar\": {\"outlinewidth\": 0, \"ticks\": \"\"}}, \"colorscale\": {\"diverging\": [[0, \"#8e0152\"], [0.1, \"#c51b7d\"], [0.2, \"#de77ae\"], [0.3, \"#f1b6da\"], [0.4, \"#fde0ef\"], [0.5, \"#f7f7f7\"], [0.6, \"#e6f5d0\"], [0.7, \"#b8e186\"], [0.8, \"#7fbc41\"], [0.9, \"#4d9221\"], [1, \"#276419\"]], \"sequential\": [[0.0, \"#0d0887\"], [0.1111111111111111, \"#46039f\"], [0.2222222222222222, \"#7201a8\"], [0.3333333333333333, \"#9c179e\"], [0.4444444444444444, \"#bd3786\"], [0.5555555555555556, \"#d8576b\"], [0.6666666666666666, \"#ed7953\"], [0.7777777777777778, \"#fb9f3a\"], [0.8888888888888888, \"#fdca26\"], [1.0, \"#f0f921\"]], \"sequentialminus\": [[0.0, \"#0d0887\"], [0.1111111111111111, \"#46039f\"], [0.2222222222222222, \"#7201a8\"], [0.3333333333333333, \"#9c179e\"], [0.4444444444444444, \"#bd3786\"], [0.5555555555555556, \"#d8576b\"], [0.6666666666666666, \"#ed7953\"], [0.7777777777777778, \"#fb9f3a\"], [0.8888888888888888, \"#fdca26\"], [1.0, \"#f0f921\"]]}, \"colorway\": [\"#636efa\", \"#EF553B\", \"#00cc96\", \"#ab63fa\", \"#FFA15A\", \"#19d3f3\", \"#FF6692\", \"#B6E880\", \"#FF97FF\", \"#FECB52\"], \"font\": {\"color\": \"#2a3f5f\"}, \"geo\": {\"bgcolor\": \"white\", \"lakecolor\": \"white\", \"landcolor\": \"#E5ECF6\", \"showlakes\": true, \"showland\": true, \"subunitcolor\": \"white\"}, \"hoverlabel\": {\"align\": \"left\"}, \"hovermode\": \"closest\", \"mapbox\": {\"style\": \"light\"}, \"paper_bgcolor\": \"white\", \"plot_bgcolor\": \"#E5ECF6\", \"polar\": {\"angularaxis\": {\"gridcolor\": \"white\", \"linecolor\": \"white\", \"ticks\": \"\"}, \"bgcolor\": \"#E5ECF6\", \"radialaxis\": {\"gridcolor\": \"white\", \"linecolor\": \"white\", \"ticks\": \"\"}}, \"scene\": {\"xaxis\": {\"backgroundcolor\": \"#E5ECF6\", \"gridcolor\": \"white\", \"gridwidth\": 2, \"linecolor\": \"white\", \"showbackground\": true, \"ticks\": \"\", \"zerolinecolor\": \"white\"}, \"yaxis\": {\"backgroundcolor\": \"#E5ECF6\", \"gridcolor\": \"white\", \"gridwidth\": 2, \"linecolor\": \"white\", \"showbackground\": true, \"ticks\": \"\", \"zerolinecolor\": \"white\"}, \"zaxis\": {\"backgroundcolor\": \"#E5ECF6\", \"gridcolor\": \"white\", \"gridwidth\": 2, \"linecolor\": \"white\", \"showbackground\": true, \"ticks\": \"\", \"zerolinecolor\": \"white\"}}, \"shapedefaults\": {\"line\": {\"color\": \"#2a3f5f\"}}, \"ternary\": {\"aaxis\": {\"gridcolor\": \"white\", \"linecolor\": \"white\", \"ticks\": \"\"}, \"baxis\": {\"gridcolor\": \"white\", \"linecolor\": \"white\", \"ticks\": \"\"}, \"bgcolor\": \"#E5ECF6\", \"caxis\": {\"gridcolor\": \"white\", \"linecolor\": \"white\", \"ticks\": \"\"}}, \"title\": {\"x\": 0.05}, \"xaxis\": {\"automargin\": true, \"gridcolor\": \"white\", \"linecolor\": \"white\", \"ticks\": \"\", \"title\": {\"standoff\": 15}, \"zerolinecolor\": \"white\", \"zerolinewidth\": 2}, \"yaxis\": {\"automargin\": true, \"gridcolor\": \"white\", \"linecolor\": \"white\", \"ticks\": \"\", \"title\": {\"standoff\": 15}, \"zerolinecolor\": \"white\", \"zerolinewidth\": 2}}}, \"width\": 800},                        {\"responsive\": true}                    ).then(function(){\n",
       "                            \n",
       "var gd = document.getElementById('e9b649ff-d60e-46a5-a8f3-db781bb20029');\n",
       "var x = new MutationObserver(function (mutations, observer) {{\n",
       "        var display = window.getComputedStyle(gd).display;\n",
       "        if (!display || display === 'none') {{\n",
       "            console.log([gd, 'removed!']);\n",
       "            Plotly.purge(gd);\n",
       "            observer.disconnect();\n",
       "        }}\n",
       "}});\n",
       "\n",
       "// Listen for the removal of the full notebook cells\n",
       "var notebookContainer = gd.closest('#notebook-container');\n",
       "if (notebookContainer) {{\n",
       "    x.observe(notebookContainer, {childList: true});\n",
       "}}\n",
       "\n",
       "// Listen for the clearing of the current output cell\n",
       "var outputEl = gd.closest('.output');\n",
       "if (outputEl) {{\n",
       "    x.observe(outputEl, {childList: true});\n",
       "}}\n",
       "\n",
       "                        })                };                });            </script>        </div>"
      ]
     },
     "metadata": {},
     "output_type": "display_data"
    }
   ],
   "source": [
    "cluster_df = clusterize_dtp(df, 200)\n",
    "get_map(cluster_df)"
   ]
  }
 ],
 "metadata": {
  "kernelspec": {
   "display_name": "Python 3",
   "language": "python",
   "name": "python3"
  },
  "language_info": {
   "codemirror_mode": {
    "name": "ipython",
    "version": 3
   },
   "file_extension": ".py",
   "mimetype": "text/x-python",
   "name": "python",
   "nbconvert_exporter": "python",
   "pygments_lexer": "ipython3",
   "version": "3.6.9"
  }
 },
 "nbformat": 4,
 "nbformat_minor": 4
}
